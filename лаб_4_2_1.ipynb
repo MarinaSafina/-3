{
  "nbformat": 4,
  "nbformat_minor": 0,
  "metadata": {
    "colab": {
      "name": "лаб.4.2.1.ipynb",
      "provenance": []
    },
    "kernelspec": {
      "name": "python3",
      "display_name": "Python 3"
    }
  },
  "cells": [
    {
      "cell_type": "code",
      "metadata": {
        "id": "UbzH7oU9_wbA",
        "outputId": "318fdf61-16f2-4d99-993b-b2acb13131c7",
        "colab": {
          "base_uri": "https://localhost:8080/",
          "height": 51
        }
      },
      "source": [
        "# Программирование на языке высокого уровня (Python).\n",
        "# https://www.yuripetrov.ru/edu/python\n",
        "# Задание task_04_02_01.\n",
        "#\n",
        "# Выполнил: Фамилия И.О.\n",
        "# Группа: !!!\n",
        "# E-mail: !!!\n",
        "\n",
        "import math\n",
        "x = int(input('Введите число x: '))\n",
        "\n",
        "if x >= 0:\n",
        "   f= math. sqrt(x)+x**2\n",
        "else:\n",
        "    f = 1 / x\n",
        "\n",
        "print(round (f,2) )\n",
        "\n",
        "# --------------\n",
        "# Пример вывода:\n",
        "#\n",
        "# Введите число x: -10\n",
        "# f = -0.10\n",
        "\n",
        "# Введите число x: 0\n",
        "# f = 0.00\n",
        "\n",
        "# Введите число x: 10\n",
        "# f = 103.16\n"
      ],
      "execution_count": null,
      "outputs": [
        {
          "output_type": "stream",
          "text": [
            "Введите число x: 10\n",
            "103.16\n"
          ],
          "name": "stdout"
        }
      ]
    }
  ]
}