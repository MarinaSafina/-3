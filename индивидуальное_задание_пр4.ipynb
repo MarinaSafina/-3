{
  "nbformat": 4,
  "nbformat_minor": 0,
  "metadata": {
    "colab": {
      "name": "индивидуальное задание пр4.ipynb",
      "provenance": []
    },
    "kernelspec": {
      "name": "python3",
      "display_name": "Python 3"
    }
  },
  "cells": [
    {
      "cell_type": "code",
      "metadata": {
        "id": "2ApARosca4sy",
        "colab": {
          "base_uri": "https://localhost:8080/"
        },
        "outputId": "43c81a51-b14b-4a23-e788-5f0b2c5c3a15"
      },
      "source": [
        "class Employee:\n",
        "  def __init__(self,stage):\n",
        "    self.stage=stage\n",
        "\n",
        "class Person(Employee):\n",
        "  def __init__(self,age,stage):\n",
        "    Employee.__init__(self,stage)\n",
        "    self.age=age\n",
        "\n",
        "class Worker(Person):\n",
        "  def pay(self):\n",
        "    return self.age/self.stage*200\n",
        "\n",
        "class Engineer(Person):\n",
        "  def pay(self):\n",
        "    return Worker.pay(self) + self.stage*100\n",
        "\n",
        "worker=Worker(15,12)\n",
        "print(worker.pay())\n",
        "engineer=Engineer(24,4)\n",
        "print(engineer.pay())"
      ],
      "execution_count": null,
      "outputs": [
        {
          "output_type": "stream",
          "text": [
            "250.0\n",
            "1600.0\n"
          ],
          "name": "stdout"
        }
      ]
    }
  ]
}