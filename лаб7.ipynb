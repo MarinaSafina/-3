{
  "nbformat": 4,
  "nbformat_minor": 0,
  "metadata": {
    "colab": {
      "name": "лаб7.ipynb",
      "provenance": [],
      "collapsed_sections": []
    },
    "kernelspec": {
      "name": "python3",
      "display_name": "Python 3"
    }
  },
  "cells": [
    {
      "cell_type": "markdown",
      "metadata": {
        "id": "mNkeP860wbg_"
      },
      "source": [
        "Для задач 7.2.1-7.2.5 приведено условие задачи и ее решение (ошибочное).\n",
        "\n",
        "Для каждой задачи:\n",
        "\n",
        "используя визуальный просмотр кода, простое журналирование, проверку PEP8 или отладчик в IDE:\n",
        "\n",
        "разберитесь в алгоритме решения;\n",
        "\n",
        "найдите номера строк, в которых есть ошибки, и укажите их в строке документации;\n",
        "\n",
        "исправьте ошибки, минимально изменив код (как правило, заменив строчку на строчку); ошибки исправляются по ходу программы, сверху вниз."
      ]
    },
    {
      "cell_type": "code",
      "metadata": {
        "id": "kOglkLnUseuS",
        "colab": {
          "base_uri": "https://localhost:8080/"
        },
        "outputId": "cf3ceda2-6653-41c6-e965-1e4915253639"
      },
      "source": [
        "# Программирование на языке высокого уровня (Python).\n",
        "# https://www.yuripetrov.ru/edu/python\n",
        "# Задание task_07_02_01.\n",
        "#\n",
        "# Выполнил: Сафина\n",
        "# Группа: !!!\n",
        "# E-mail: !!!\n",
        "# Ошибки: \"return digit, с обозначено за пределами функции,\"\n",
        "\n",
        "\"\"\"\n",
        "Ошибки (номера строк через пробел, данная строка - №2): !!!\n",
        "\"\"\"\n",
        "\n",
        "\n",
        "def sum_of_digits(n):\n",
        "    \"\"\"Вернуть сумму цифр меньших 5 для положительного целого числа `n`.\n",
        "    Если таких цифр нет, вернуть 0.\"\"\"\n",
        "    c=0\n",
        "    while n > 0:\n",
        "        digit = n % 10\n",
        "        if digit < 5:\n",
        "           c += digit\n",
        "        n //= 10\n",
        "    return c # не тот уровень был и выводилась не сумма, а число\n",
        "\n",
        "sum_of_digits(463)"
      ],
      "execution_count": null,
      "outputs": [
        {
          "output_type": "execute_result",
          "data": {
            "text/plain": [
              "7"
            ]
          },
          "metadata": {
            "tags": []
          },
          "execution_count": 4
        }
      ]
    },
    {
      "cell_type": "code",
      "metadata": {
        "colab": {
          "base_uri": "https://localhost:8080/"
        },
        "id": "iSBAhxJZZ6Or",
        "outputId": "d6519ae1-4ef2-4f6e-ec9a-7740ed771832"
      },
      "source": [
        "# Программирование на языке высокого уровня (Python).\n",
        "# https://www.yuripetrov.ru/edu/python\n",
        "# Задание task_07_02_02.\n",
        "#\n",
        "# Выполнил: Сафина\n",
        "# Группа: !!!\n",
        "# E-mail: !!!\n",
        "\n",
        "\n",
        "\"\"\"\n",
        "Ошибки (номера строк через пробел, данная строка - №2): !!!\n",
        "\"\"\"\n",
        "\n",
        "\n",
        "def primes(a, b):\n",
        "    \"\"\"Вернуть список простых чисел на отрезке от 'a' до 'b'.\"\"\"\n",
        "    res = []\n",
        "    c = 0\n",
        "    for i in range(a, b+1):\n",
        "        for j in range(i+1):\n",
        "            if i %(j+1)  == 0:\n",
        "                c += 1\n",
        "            \n",
        "        if c == 2: #был неверный уровень, из-за которого в список попадали элементы, имеющие хотя бы 2 делителя\n",
        "               res.append(i)\n",
        "               c=0\n",
        "        else:\n",
        "          c=0  \n",
        "\n",
        "    return res\n",
        "primes(15,21)"
      ],
      "execution_count": null,
      "outputs": [
        {
          "output_type": "execute_result",
          "data": {
            "text/plain": [
              "[17, 19]"
            ]
          },
          "metadata": {
            "tags": []
          },
          "execution_count": 2
        }
      ]
    },
    {
      "cell_type": "code",
      "metadata": {
        "colab": {
          "base_uri": "https://localhost:8080/"
        },
        "id": "FnRuM_Onj37O",
        "outputId": "b8422523-637d-4874-f9ce-f5098a79d372"
      },
      "source": [
        "# Программирование на языке высокого уровня (Python).\r\n",
        "# https://www.yuripetrov.ru/edu/python\r\n",
        "# Задание task_07_02_03.\r\n",
        "#\r\n",
        "# Выполнил: Фамилия И.О.\r\n",
        "# Группа: !!!\r\n",
        "# E-mail: !!!\r\n",
        "\r\n",
        "\r\n",
        "\"\"\"\r\n",
        "Ошибки (номера строк через пробел, данная строка - №2): !!!\r\n",
        "\"\"\"\r\n",
        "\r\n",
        "\r\n",
        "def first_vacant_row(seats):\r\n",
        "    max_count = 0\r\n",
        "    max_row = 0\r\n",
        "    for row_index, row in enumerate(seats):\r\n",
        "        available_seats_count = row.count(0)  # 0 - пусто \r\n",
        "        if available_seats_count > max_count:\r\n",
        "            max_row = row_index +1\r\n",
        "            max_count = available_seats_count\r\n",
        "        else:# не хватало else и цикл из-за этого писал последний ряд , теперь мы прописали, что если количество свободных\r\n",
        "                                                                               # мест меньше или равно, то ряд пропускается\r\n",
        "          pass\r\n",
        "    return max_row, max_count\r\n",
        "\r\n",
        "import random\r\n",
        "\r\n",
        "random.seed(50)\r\n",
        "\r\n",
        "ROWS_MAX = 10\r\n",
        "SEATS_MAX = 5\r\n",
        "\r\n",
        "seats = [[random.randint(0, 1) for seat in range(SEATS_MAX)]\r\n",
        "                                for row in range(ROWS_MAX)]\r\n",
        "\r\n",
        "for seat in seats:\r\n",
        "   print(seat)\r\n",
        "print(first_vacant_row(seats))\r\n"
      ],
      "execution_count": null,
      "outputs": [
        {
          "output_type": "stream",
          "text": [
            "[1, 1, 1, 0, 1]\n",
            "[1, 0, 1, 0, 0]\n",
            "[0, 1, 0, 1, 1]\n",
            "[0, 0, 0, 1, 1]\n",
            "[0, 0, 1, 1, 0]\n",
            "[0, 1, 1, 1, 0]\n",
            "[0, 1, 1, 1, 0]\n",
            "[1, 0, 0, 1, 0]\n",
            "[1, 1, 0, 1, 1]\n",
            "[0, 1, 0, 0, 1]\n",
            "(2, 3)\n"
          ],
          "name": "stdout"
        }
      ]
    },
    {
      "cell_type": "code",
      "metadata": {
        "colab": {
          "base_uri": "https://localhost:8080/"
        },
        "id": "TzY5o8hfs142",
        "outputId": "dc67a744-3aa0-4e90-b9d2-01ef2b804d10"
      },
      "source": [
        "# Программирование на языке высокого уровня (Python).\r\n",
        "# https://www.yuripetrov.ru/edu/python\r\n",
        "# Задание task_07_02_04.\r\n",
        "#\r\n",
        "# Выполнил: Сафина\r\n",
        "# Группа: !!!\r\n",
        "# E-mail: !!!\r\n",
        "\r\n",
        "\r\n",
        "\"\"\"\r\n",
        "Ошибки (номера строк через пробел, данная строка - №2): !!!\r\n",
        "\"\"\"\r\n",
        "\r\n",
        "\r\n",
        "def min_pair(nums):\r\n",
        "    \"\"\"Вернуть минимальную сумму соседних 2-х чисел в списке 'nums'.\"\"\"\r\n",
        "    mun = nums[0] + nums[1]\r\n",
        "    b=len(nums)\r\n",
        "    for i in range(2, b-1): #i+1 выходило за пределы списка, поэтому указала длину -1\r\n",
        "        mun = min(nums[i] + nums[i+1], mun)#было несколько переменных обозначенных min, переименовала\r\n",
        "    return mun\r\n",
        "import random\r\n",
        "\r\n",
        "random.seed(50)\r\n",
        "\r\n",
        "N_MAX = 10\r\n",
        "RANGE_MIN = 1\r\n",
        "RANGE_MAX = 100\r\n",
        "nums = random.sample(range(RANGE_MIN, RANGE_MAX), N_MAX)\r\n",
        "print(nums)\r\n",
        "print(min_pair(nums))\r\n",
        "\r\n"
      ],
      "execution_count": null,
      "outputs": [
        {
          "output_type": "stream",
          "text": [
            "[64, 35, 47, 82, 32, 89, 61, 99, 43, 11]\n",
            "54\n"
          ],
          "name": "stdout"
        }
      ]
    },
    {
      "cell_type": "code",
      "metadata": {
        "colab": {
          "base_uri": "https://localhost:8080/"
        },
        "id": "hYrQoKIqQwux",
        "outputId": "e7969914-68a3-46ab-fc5b-b85f9578175a"
      },
      "source": [
        "# Программирование на языке высокого уровня (Python).\r\n",
        "# https://www.yuripetrov.ru/edu/python\r\n",
        "# Задание task_07_02_05.\r\n",
        "#\r\n",
        "# Выполнил: Сафина\r\n",
        "# Группа: !!!\r\n",
        "# E-mail: !!!\r\n",
        "\r\n",
        "\r\n",
        "\"\"\"\r\n",
        "Ошибки (номера строк через пробел, данная строка - №2): !!!\r\n",
        "\"\"\"\r\n",
        "\r\n",
        "def non_negatives(nums):\r\n",
        "    \"\"\"Удалить из списка чисел 'nums' отрицательные элементы и вернуть\r\n",
        "    измененный список.\"\"\"\r\n",
        "    for i in range(len(nums)):#длина списка постоянно меняется из-за удаления отрицательных значений и не пересчитывается,поэтому вместо удаления присваиваем значение -1\r\n",
        "        if nums[i] < 0:\r\n",
        "            nums[i]=-1\r\n",
        "    num1=[]\r\n",
        "    for i in range(len(nums)):#когда отрицательные числа стали -1, мы проверяем все числа списка, и не равные -1 добавляем в новый список, который выводим\r\n",
        "      if nums[i]!=-1:\r\n",
        "        num1.append(nums[i])\r\n",
        "\r\n",
        "    return nums\r\n",
        "import random\r\n",
        "n = 10\r\n",
        "nums = [round(random.uniform(-10, 10), 2) for i in range(n)]\r\n",
        "print(nums)\r\n",
        "non_negatives(nums)\r\n",
        "print(num1)\r\n"
      ],
      "execution_count": null,
      "outputs": [
        {
          "output_type": "stream",
          "text": [
            "[-7.74, 8.33, -6.18, 2.75, 8.67, 9.79, -1.0, 6.57, 8.54, 5.1]\n",
            "[9.22, 5.9, 4.59, 3.19, 0.57, 7.7, 6.41, 8.96]\n"
          ],
          "name": "stdout"
        }
      ]
    },
    {
      "cell_type": "markdown",
      "metadata": {
        "id": "8DFhhquyotwS"
      },
      "source": [
        "Программы 7.2.6-7.2.11 написаны верно, однако содержат места потенциальных ошибок.\r\n",
        "\r\n",
        "Для каждой задачи:\r\n",
        "\r\n",
        "найдите потенциальные источники ошибок (укажите номера строк в строке документации);\r\n",
        "\r\n",
        "используя конструкцию try добавьте в код обработку соответствующих исключений."
      ]
    },
    {
      "cell_type": "code",
      "metadata": {
        "colab": {
          "base_uri": "https://localhost:8080/"
        },
        "id": "wPYOFqIRovQM",
        "outputId": "0ab5b5ff-68b4-4c41-e7f3-a474f777745f"
      },
      "source": [
        "# Программирование на языке высокого уровня (Python).\r\n",
        "# https://www.yuripetrov.ru/edu/python\r\n",
        "# Задание task_07_02_06.\r\n",
        "#\r\n",
        "# Выполнил: Сафина\r\n",
        "# Группа: !!!\r\n",
        "# E-mail: !!!\r\n",
        "\r\n",
        "\r\n",
        "\"\"\"\r\n",
        "Ошибки (номера строк через пробел, данная строка - №2): !!!\r\n",
        "\"\"\"\r\n",
        "\r\n",
        "\r\n",
        "def unemployment_rate(unemployed, employed):\r\n",
        "    \"\"\"Вернуть уровень безработицы (УБ) в долях 1.\r\n",
        "\r\n",
        "       Расчет по формуле: УБ = Безработные / (Занятые + Безработные).\r\n",
        "    \"\"\"\r\n",
        "    if unemployed > 0 and employed>0:\r\n",
        "      return unemployed / (unemployed + employed)\r\n",
        "    else:\r\n",
        "      raise ValueError('невозможно вычислить уровень безработицы. введите положительные числа')\r\n",
        "\r\n",
        "try:\r\n",
        "  unemployed = int(input(\"Введите кол-во безработных (чел.): \"))#есть возможность вводить отрицательные значения\r\n",
        "  employed = int(input(\"Введите кол-во занятых (чел.): \"))#есть возможность вводить отрицательные значения\r\n",
        "  rate = unemployment_rate(unemployed, employed)\r\n",
        "  print(\"Уровень безработицы = {:.1%}\".format(rate))\r\n",
        "except ValueError as err:\r\n",
        "    print(\"Ошибка:\", err)\r\n",
        "except Exception as err:\r\n",
        "    print(\"Ошибка:\", err)\r\n"
      ],
      "execution_count": null,
      "outputs": [
        {
          "output_type": "stream",
          "text": [
            "Введите кол-во безработных (чел.): -1\n",
            "Введите кол-во занятых (чел.): 3\n",
            "Ошибка: невозможно вычислить уровень безработицы. введите положительные числа\n"
          ],
          "name": "stdout"
        }
      ]
    }
  ]
}