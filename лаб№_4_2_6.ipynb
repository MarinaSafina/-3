{
  "nbformat": 4,
  "nbformat_minor": 0,
  "metadata": {
    "colab": {
      "name": "лаб№ 4.2.6.ipynb",
      "provenance": [],
      "collapsed_sections": []
    },
    "kernelspec": {
      "name": "python3",
      "display_name": "Python 3"
    }
  },
  "cells": [
    {
      "cell_type": "markdown",
      "metadata": {
        "id": "L0icLLv6yFeh"
      },
      "source": [
        "№ 4.2.6\n",
        "\n",
        "Даны вещественные числа a, b, c (a≠0).\n",
        "\n",
        "Решите уравнение ax2+bx+c=0. При выводе значений оставьте 1 знак после запятой."
      ]
    },
    {
      "cell_type": "code",
      "metadata": {
        "id": "nB6dB02hxtXK",
        "outputId": "e2fad2a1-870c-4d12-fc7e-372959fd022a",
        "colab": {
          "base_uri": "https://localhost:8080/",
          "height": 85
        }
      },
      "source": [
        "# Программирование на языке высокого уровня (Python).\n",
        "# https://www.yuripetrov.ru/edu/python\n",
        "# Задание task_04_02_06.\n",
        "#\n",
        "# Выполнил: Фамилия И.О.\n",
        "# Группа: !!!\n",
        "# E-mail: !!!\n",
        "import math\n",
        "\n",
        "a = int(input('a= '))\n",
        "b = int(input('b= '))\n",
        "c = int(input('c= '))\n",
        "\n",
        "# Расчет дискриминанта\n",
        "d= b**2-4*a*c\n",
        "\n",
        "# Вывод решения в зависимости от значения дискриминанта\n",
        "if (d<0):\n",
        "   print(\" решений нет\")\n",
        "elif (d>0) :\n",
        "  x1=(-b+ math.sqrt(d))/2*a\n",
        "  x2=(-b - math.sqrt(d))/2*a\n",
        "  print('x1= ' ,round(x1, 1), 'x2= ' ,round(x2, 1))\n",
        "elif (d<0):\n",
        "   print(\" решений нет\")\n",
        "else:\n",
        "  x=-b/2*a\n",
        "  print('x =', round(x,1))\n",
        "# При выводе значений оставьте 1 знак после запятой\n",
        "# Удалите комментарий и допишите код\n",
        "\n",
        "# --------------\n",
        "# Пример вывода:\n",
        "#\n",
        "# a = 1\n",
        "# b = 2\n",
        "# c = 3\n",
        "# Решений нет\n",
        "#\n",
        "# a = 1\n",
        "# b = 2\n",
        "# c = 1\n",
        "# x = -1.0\n",
        "#\n",
        "# a = 1\n",
        "# b = 3\n",
        "# c = -4\n",
        "# x1 = -4.0, x2 = 1.0\n"
      ],
      "execution_count": null,
      "outputs": [
        {
          "output_type": "stream",
          "text": [
            "a= 1\n",
            "b= 3\n",
            "c= -4\n",
            "x1=  1.0 x2=  -4.0\n"
          ],
          "name": "stdout"
        }
      ]
    }
  ]
}