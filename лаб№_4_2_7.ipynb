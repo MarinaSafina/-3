{
  "nbformat": 4,
  "nbformat_minor": 0,
  "metadata": {
    "colab": {
      "name": "лаб№ 4.2.7.ipynb",
      "provenance": []
    },
    "kernelspec": {
      "name": "python3",
      "display_name": "Python 3"
    }
  },
  "cells": [
    {
      "cell_type": "markdown",
      "metadata": {
        "id": "6kVzoqBVlIPI"
      },
      "source": [
        "№ 4.2.7\n",
        "\n",
        "Дана непустая последовательность целых чисел, оканчивающаяся нулем. Найти сумму и количество введенных чисел."
      ]
    },
    {
      "cell_type": "code",
      "metadata": {
        "id": "HkAfP9nP8wZG",
        "outputId": "81e33ae8-343c-4437-bfa0-4bf2f4c3b0fb",
        "colab": {
          "base_uri": "https://localhost:8080/",
          "height": 136
        }
      },
      "source": [
        "# Программирование на языке высокого уровня (Python).\n",
        "# https://www.yuripetrov.ru/edu/python\n",
        "# Задание task_04_02_07.\n",
        "#\n",
        "# Выполнил: Фамилия И.О.\n",
        "# Группа: !!!\n",
        "# E-mail: !!!\n",
        "\n",
        "\n",
        "sum = 0  # сумма\n",
        "count = 0  # количество\n",
        "\n",
        "import math\n",
        "n=1\n",
        "x =int\n",
        "while x != 0:\n",
        "    x =int(input('введите  число: '))\n",
        "    sum=sum+ x\n",
        "    count=count+1\n",
        "    n=n+1\n",
        "print(\"Сумма = \", sum)\n",
        "count= count - 1\n",
        "print(\"Количество = \",count)\n",
        "\n",
        "\n",
        "# Удалите комментарий и допишите код\n",
        "\n",
        "# --------------\n",
        "# Пример вывода:\n",
        "#\n",
        "# Введите 1-е число: 1\n",
        "# Введите 2-е число: 2\n",
        "# Введите 3-е число: 3\n",
        "# Введите 4-е число: 4\n",
        "# Введите 5-е число: 0\n",
        "# Сумма = 10\n",
        "# Количество = 4\n",
        "#\n",
        "# Введите 1-е число: 0\n",
        "# Сумма = 0\n",
        "# Количество = 0\n"
      ],
      "execution_count": null,
      "outputs": [
        {
          "output_type": "stream",
          "text": [
            "введите  число: 1\n",
            "введите  число: 2\n",
            "введите  число: 3\n",
            "введите  число: 4\n",
            "введите  число: 0\n",
            "Сумма =  10\n",
            "Количество =  4\n"
          ],
          "name": "stdout"
        }
      ]
    }
  ]
}