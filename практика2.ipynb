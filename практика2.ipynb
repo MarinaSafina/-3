{
  "nbformat": 4,
  "nbformat_minor": 0,
  "metadata": {
    "colab": {
      "name": "практика2.ipynb",
      "provenance": []
    },
    "kernelspec": {
      "name": "python3",
      "display_name": "Python 3"
    }
  },
  "cells": [
    {
      "cell_type": "code",
      "metadata": {
        "id": "sGHYpq-52Keu",
        "outputId": "8a48a433-81e8-4822-839a-f98c5ec43e3c",
        "colab": {
          "base_uri": "https://localhost:8080/",
          "height": 289
        }
      },
      "source": [
        "class SpaceShip:\n",
        "  def __init__(self):\n",
        "    self.hp=100\n",
        "    self.speed= 13000\n",
        "    self.crew=64\n",
        "    self.power_reserve=5600\n",
        "  def __str__(self):\n",
        "    return \"SpaceShip : {}; {};{};{} \". format(self.hp, self.speed, self.crew,self.power_reserve)\n",
        "  def draw(self):\n",
        "    print('+-|--------|-+')\n",
        "    print('+     ПП     +')\n",
        "    print('+     ПП     +')\n",
        "    print('+-П--------П-+')\n",
        "obj1= SpaceShip()\n",
        "print(obj1.draw())\n",
        "class StarDestroyer(SpaceShip):\n",
        "  def __init__(self):\n",
        "    super(). __init__()\n",
        "    self.shields=1000\n",
        "    self.shields_enabled= False\n",
        "    self.weapons=[100]*15\n",
        "  def __str__(self):\n",
        "    return \"StarDestroyer:{}; {}\". format(self.shields,self.weapons )\n",
        "  def shields_on(self):\n",
        "    self.shields_enabled= True\n",
        "    return self.shields_enabled\n",
        "  def shields_off(self):\n",
        "    self.shields_enabled= False\n",
        "  def hit(self):\n",
        "    if self.shields_enabled:\n",
        "      self.shields-=10\n",
        "    else:\n",
        "      elf.hp-=10\n",
        "  def draw(self):\n",
        "    print(\"       /\\       \")\n",
        "    print(\"      /  \\      \")\n",
        "    print(\"     /    \\     \")\n",
        "    print(\"    / |  | \\    \")\n",
        "    print(\"   /        \\   \")\n",
        "    print(\"  /   /..\\   \\  \")\n",
        "    print(\" /   +----+   \\ \")\n",
        "    print(\"+---+-+--+-+---+\")\n",
        "    print(\"    |_|  |_|\")\n",
        "obj2= StarDestroyer()\n",
        "print(obj2.draw())\n",
        "print(obj2.shields_enabled)"
      ],
      "execution_count": null,
      "outputs": [
        {
          "output_type": "stream",
          "text": [
            "+-|--------|-+\n",
            "+     ПП     +\n",
            "+     ПП     +\n",
            "+-П--------П-+\n",
            "None\n",
            "       /\\       \n",
            "      /  \\      \n",
            "     /    \\     \n",
            "    / |  | \\    \n",
            "   /        \\   \n",
            "  /   /..\\   \\  \n",
            " /   +----+   \\ \n",
            "+---+-+--+-+---+\n",
            "    |_|  |_|\n",
            "None\n",
            "False\n"
          ],
          "name": "stdout"
        }
      ]
    },
    {
      "cell_type": "markdown",
      "metadata": {
        "id": "FqxEON8eadiZ"
      },
      "source": [
        "Практическая работа задание 1"
      ]
    },
    {
      "cell_type": "code",
      "metadata": {
        "id": "sCnT2P8JZqvf",
        "outputId": "f6e3d659-7f24-404e-c77c-4797193466c5",
        "colab": {
          "base_uri": "https://localhost:8080/",
          "height": 85
        }
      },
      "source": [
        "class First:\n",
        "  color=\"red\"\n",
        "  def out(self):\n",
        "    print(self.color + \"!\")\n",
        "obj1= First( )\n",
        "obj2= First( )\n",
        "print(obj1.color)\n",
        "print(obj2.color)\n",
        "obj1.out()\n",
        "obj2.out()\n",
        "\n",
        "\n",
        "\n"
      ],
      "execution_count": null,
      "outputs": [
        {
          "output_type": "stream",
          "text": [
            "red\n",
            "red\n",
            "red!\n",
            "red!\n"
          ],
          "name": "stdout"
        }
      ]
    },
    {
      "cell_type": "markdown",
      "metadata": {
        "id": "DXXNFKepbmBD"
      },
      "source": [
        "практическая работа задание 2"
      ]
    },
    {
      "cell_type": "code",
      "metadata": {
        "id": "6hWt8vWxbqVD",
        "outputId": "3428962e-21f6-4ca2-a11f-f0343df5680f",
        "colab": {
          "base_uri": "https://localhost:8080/",
          "height": 119
        }
      },
      "source": [
        "class Second:\n",
        "  color=\"red\"\n",
        "  form=\"circle\"\n",
        "  size=10\n",
        "\n",
        "  def changecolor (self, newcolor):\n",
        "    self.color = newcolor\n",
        "  def changeform (self, newform):\n",
        "    self.form = newform\n",
        "  def changesize (self, newsize):\n",
        "    self.size = newsize\n",
        "obj1 = Second()\n",
        "obj2 = Second()\n",
        "obj3 = Second()\n",
        "print(obj1.color, obj1.form, obj1.size)\n",
        "print(obj2.color, obj2.form, obj2.size)\n",
        "print(obj3.color, obj3.form, obj3.size)\n",
        "obj1.changecolor=\"green\"\n",
        "obj2.changecolor=\"blue\"\n",
        "obj2.changeform= \"oval\"\n",
        "obj3.changecolor=\"pink\"\n",
        "obj3.changeform=\"square\"\n",
        "obj3.changesize= 15\n",
        "print(obj1.changecolor, obj1.form, obj1.size)\n",
        "print(obj2.changecolor, obj2.changeform, obj2.size)\n",
        "print(obj3.changecolor, obj3.changeform, obj3.changesize)"
      ],
      "execution_count": null,
      "outputs": [
        {
          "output_type": "stream",
          "text": [
            "red circle 10\n",
            "red circle 10\n",
            "red circle 10\n",
            "green circle 10\n",
            "blue oval 10\n",
            "pink square 15\n"
          ],
          "name": "stdout"
        }
      ]
    },
    {
      "cell_type": "markdown",
      "metadata": {
        "id": "T6AufY9QdgJm"
      },
      "source": [
        "практическая"
      ]
    },
    {
      "cell_type": "code",
      "metadata": {
        "id": "dd44iw1ddjAF",
        "outputId": "4e5748a7-dcac-4eac-f9c4-281097c719d9",
        "colab": {
          "base_uri": "https://localhost:8080/",
          "height": 51
        }
      },
      "source": [
        "class Father:\n",
        "   age=50\n",
        "   def changeage (self, newage):\n",
        "    self.age=newage\n",
        "obj1= Father()\n",
        "obj1.changeage=60\n",
        "class Kids(Father):\n",
        "  def __init__ (self):\n",
        "   super().__init__\n",
        "  def kidsage (self, changeage):\n",
        "     self.kidsage=changeage-20\n",
        "obj2= Kids()\n",
        "obj2.kidsage= obj1.changeage-20\n",
        "\n",
        "print(obj1.changeage)\n",
        "print(obj2.kidsage)\n",
        "\n",
        "\n",
        "\n",
        "  "
      ],
      "execution_count": null,
      "outputs": [
        {
          "output_type": "stream",
          "text": [
            "60\n",
            "40\n"
          ],
          "name": "stdout"
        }
      ]
    },
    {
      "cell_type": "markdown",
      "metadata": {
        "id": "J9o8-UNBj62J"
      },
      "source": [
        "задание 3"
      ]
    },
    {
      "cell_type": "code",
      "metadata": {
        "id": "ehh6wYsgkATT",
        "outputId": "589327aa-5fba-4942-c787-84e7bd639cb0",
        "colab": {
          "base_uri": "https://localhost:8080/",
          "height": 51
        }
      },
      "source": [
        "class YesInit:\n",
        "  def __init__(self,one,two):\n",
        "    self.fname=one\n",
        "    self.sname=two\n",
        "obj1= YesInit(\"Peter\", \"Ok\")\n",
        "print(obj1.fname, obj1.sname)\n",
        "class NoInit:\n",
        "  def names(self,one,two):\n",
        "    self.fname=one\n",
        "    self.sname=two\n",
        "obj1=NoInit()\n",
        "obj1.names(\"Peter\",\"Ok\")\n",
        "print(obj1.fname, obj1.sname)"
      ],
      "execution_count": null,
      "outputs": [
        {
          "output_type": "stream",
          "text": [
            "Peter Ok\n",
            "Peter Ok\n"
          ],
          "name": "stdout"
        }
      ]
    },
    {
      "cell_type": "markdown",
      "metadata": {
        "id": "20kgcjlQnH51"
      },
      "source": [
        "Задание 4"
      ]
    },
    {
      "cell_type": "code",
      "metadata": {
        "id": "vs3hdI62nM3d",
        "outputId": "a5211d2f-9478-4477-85f2-364e502ffdaa",
        "colab": {
          "base_uri": "https://localhost:8080/",
          "height": 85
        }
      },
      "source": [
        "class YesInit:\n",
        "  def __init__(self,one=\"noname\",two=\"nonametoo\"):\n",
        "    self.fname=one\n",
        "    self.sname=two\n",
        "obj1=YesInit(\"Sacha\",\"Tu\")\n",
        "obj2=YesInit()\n",
        "obj3=YesInit(\"Spartak\")\n",
        "obj4=YesInit(two=\"Harry\")\n",
        "print(obj1.fname, obj1.sname)\n",
        "print(obj2.fname, obj2.sname)\n",
        "print(obj3.fname, obj3.sname)\n",
        "print(obj4.fname, obj4.sname)"
      ],
      "execution_count": null,
      "outputs": [
        {
          "output_type": "stream",
          "text": [
            "Sacha Tu\n",
            "noname nonametoo\n",
            "Spartak nonametoo\n",
            "noname Harry\n"
          ],
          "name": "stdout"
        }
      ]
    },
    {
      "cell_type": "markdown",
      "metadata": {
        "id": "f33qtAO-qz8D"
      },
      "source": [
        "Задание 5 (второй класс должен быть с ошибкой)"
      ]
    },
    {
      "cell_type": "code",
      "metadata": {
        "id": "yfAIXLDHq4wG",
        "outputId": "d23014c1-370a-4690-f356-9929c4982a2e",
        "colab": {
          "base_uri": "https://localhost:8080/",
          "height": 68
        }
      },
      "source": [
        "class fruits:\n",
        "  def __init__(self,w,n=0):\n",
        "    self.what=w\n",
        "    self.numbers=n\n",
        "\n",
        "f1=fruits(\"apple\",150)\n",
        "f2=fruits(\"pineapple\")\n",
        "\n",
        "print(f1.what, f1.numbers)\n",
        "print(f2.what, f2.numbers)\n",
        "\n",
        "class banan(fruits):\n",
        "  def __init__(self,w,c,n):\n",
        "     super(). __init__(w)\n",
        "     self.color = c\n",
        "     self.numbers=n\n",
        "    \n",
        "f3=banan(\"banan\",\"white\", 150)  \n",
        "print(f3.color, f3.numbers)\n",
        "    \n",
        "\n"
      ],
      "execution_count": null,
      "outputs": [
        {
          "output_type": "stream",
          "text": [
            "apple 150\n",
            "pineapple 0\n",
            "white 150\n"
          ],
          "name": "stdout"
        }
      ]
    },
    {
      "cell_type": "markdown",
      "metadata": {
        "id": "-_FDDPkotyPS"
      },
      "source": [
        "Задание 6"
      ]
    },
    {
      "cell_type": "code",
      "metadata": {
        "id": "0JkHgNZjt1ao",
        "outputId": "76f592a5-53fc-48e0-e958-54051d863661",
        "colab": {
          "base_uri": "https://localhost:8080/",
          "height": 85
        }
      },
      "source": [
        "class Building:\n",
        "  def __init__(self, w,c,n=0):\n",
        "    self.what=w\n",
        "    self.color=c\n",
        "    self.numbers=n\n",
        "    self.mwhere(n)\n",
        " \n",
        "  def mwhere(self,n):\n",
        "   if n<=0:\n",
        "     self.where=\"отсутствуют\"\n",
        "   elif 0<n<100:\n",
        "     self.where=\"малый склад\"\n",
        "   else:\n",
        "     self.where=\"основной склад\"\n",
        "  def plus(self,p):\n",
        "   self.numbers=self.numbers+p\n",
        "   self.mwhere(self.numbers)\n",
        "  def minus(self,m):\n",
        "   self.numbers=self.numbers-m\n",
        "   self.mwhere(self.numbers)\n",
        "m1=Building(\"Доски\",\"белые\",50)\n",
        "m2=Building(\"Доски\",\"коричневые\",300)\n",
        "m3=Building(\"кирпичи\",\"белые\")\n",
        "print(m1.what,m1.color,m1.where)\n",
        "print(m2.what,m2.color,m2.where)\n",
        "print(m3.what,m3.color,m3.where)\n",
        "m1.plus(500)\n",
        "print(m1.numbers,m1.where)"
      ],
      "execution_count": null,
      "outputs": [
        {
          "output_type": "stream",
          "text": [
            "Доски белые малый склад\n",
            "Доски коричневые основной склад\n",
            "кирпичи белые отсутствуют\n",
            "550 основной склад\n"
          ],
          "name": "stdout"
        }
      ]
    },
    {
      "cell_type": "markdown",
      "metadata": {
        "id": "rROoZHZNz1FC"
      },
      "source": [
        "практика"
      ]
    },
    {
      "cell_type": "code",
      "metadata": {
        "id": "D5Xuq4Z4z4-i",
        "outputId": "c6f0cc91-da2e-484b-cbd4-176949c567b6",
        "colab": {
          "base_uri": "https://localhost:8080/",
          "height": 51
        }
      },
      "source": [
        "class Destroy:\n",
        "  def __init__(self,s,n,d):\n",
        "    self.stress=s\n",
        "    self.nerves=n\n",
        "    self.dreams=d\n",
        "p1=Destroy(\"Высокий уровень стресса\",\"нервов не осталось\",\"2 часа сна\")\n",
        "p2=Destroy(\"Низкий уровень стресса\",\"нервы в норме\",\"9 часов сна\")\n",
        "print(p1.stress,p1.nerves,p1.dreams)\n",
        "print(p2.stress,p2.nerves,p2.dreams)"
      ],
      "execution_count": null,
      "outputs": [
        {
          "output_type": "stream",
          "text": [
            "Высокий уровень стресса нервов не осталось 2 часа сна\n",
            "Низкий уровень стресса нервы в норме 9 часов сна\n"
          ],
          "name": "stdout"
        }
      ]
    },
    {
      "cell_type": "markdown",
      "metadata": {
        "id": "_QJvbVUc2oE9"
      },
      "source": [
        "Задание 7"
      ]
    },
    {
      "cell_type": "code",
      "metadata": {
        "id": "4uIiasDT2qrS",
        "outputId": "dcb0ebe6-208e-4d2d-f64e-77f4746ef49b",
        "colab": {
          "base_uri": "https://localhost:8080/",
          "height": 85
        }
      },
      "source": [
        "class Things:\n",
        "  def __init__(self,n,t):\n",
        "    self.namething=n\n",
        "    self.total=t\n",
        "th1=Things(\"table\",5)\n",
        "th2=Things(\"computer\",7)\n",
        "\n",
        "print(th1.namething,th1.total)\n",
        "print(th2.namething,th2.total)\n",
        "\n",
        "th1.color=\"green\"\n",
        "th2.color=\"blue\"\n",
        "\n",
        "print(th1.color)\n",
        "print(th2.color)"
      ],
      "execution_count": null,
      "outputs": [
        {
          "output_type": "stream",
          "text": [
            "table 5\n",
            "computer 7\n",
            "green\n",
            "blue\n"
          ],
          "name": "stdout"
        }
      ]
    },
    {
      "cell_type": "markdown",
      "metadata": {
        "id": "gZXzyZbL45p1"
      },
      "source": [
        "Задание 8"
      ]
    },
    {
      "cell_type": "code",
      "metadata": {
        "id": "2ihx1BXI5o8X",
        "outputId": "a9d8870c-2b10-4bd8-c31e-3ed4965ee50c",
        "colab": {
          "base_uri": "https://localhost:8080/",
          "height": 282
        }
      },
      "source": [
        "class Table:\n",
        "  def __init__ (self,l,w,h):\n",
        "    self.long=l\n",
        "    self.widght=w\n",
        "    self.height=h\n",
        "  def outing(self):\n",
        "    print(self.long, self.widght, self.height)\n",
        "class Kitchen (Table):\n",
        "  def howplaces(self,n):\n",
        "    if n<2:\n",
        "      print(\"It is not kitchen table\")\n",
        "    else:\n",
        "      self.places=n\n",
        "  def outplaces(self):\n",
        "    print(self.places)\n",
        "class Worker(Table):\n",
        "  def __init__(self,t,p):\n",
        "    self.time=t\n",
        "    self.payment=p\n",
        "  def outing(self):\n",
        "    print(self.time, self.payment)\n",
        "  def work(self,t):\n",
        "    if t>10:\n",
        "      wor1=Worker(13,230)\n",
        "      print(wor1.time,wor1.payment)\n",
        "    else:\n",
        "      print(none)\n",
        "  def payment(self,p):\n",
        "     if p>200:\n",
        "       print(\"Hight price\")\n",
        "     else:\n",
        "       print(\"Normal price\")\n",
        "wor1= Worker(8,120)\n",
        "wor2= Worker(13,230)\n",
        "wor1.outing()\n",
        "wor2.outing()\n",
        "t_room1= Kitchen(2,1,0.5)\n",
        "t_room1.outing()\n",
        "t_room1.howplaces(5)\n",
        "t_room1.outplaces()\n",
        "\n",
        "t_2=Table(1,3,0.7)\n",
        "t_2.outing()\n",
        "t_2.howplaces(8)#ошибка\n"
      ],
      "execution_count": null,
      "outputs": [
        {
          "output_type": "stream",
          "text": [
            "8 120\n",
            "13 230\n",
            "2 1 0.5\n",
            "5\n",
            "1 3 0.7\n"
          ],
          "name": "stdout"
        },
        {
          "output_type": "error",
          "ename": "AttributeError",
          "evalue": "ignored",
          "traceback": [
            "\u001b[0;31m---------------------------------------------------------------------------\u001b[0m",
            "\u001b[0;31mAttributeError\u001b[0m                            Traceback (most recent call last)",
            "\u001b[0;32m<ipython-input-65-74fc30537de3>\u001b[0m in \u001b[0;36m<module>\u001b[0;34m()\u001b[0m\n\u001b[1;32m     42\u001b[0m \u001b[0mt_2\u001b[0m\u001b[0;34m=\u001b[0m\u001b[0mTable\u001b[0m\u001b[0;34m(\u001b[0m\u001b[0;36m1\u001b[0m\u001b[0;34m,\u001b[0m\u001b[0;36m3\u001b[0m\u001b[0;34m,\u001b[0m\u001b[0;36m0.7\u001b[0m\u001b[0;34m)\u001b[0m\u001b[0;34m\u001b[0m\u001b[0;34m\u001b[0m\u001b[0m\n\u001b[1;32m     43\u001b[0m \u001b[0mt_2\u001b[0m\u001b[0;34m.\u001b[0m\u001b[0mouting\u001b[0m\u001b[0;34m(\u001b[0m\u001b[0;34m)\u001b[0m\u001b[0;34m\u001b[0m\u001b[0;34m\u001b[0m\u001b[0m\n\u001b[0;32m---> 44\u001b[0;31m \u001b[0mt_2\u001b[0m\u001b[0;34m.\u001b[0m\u001b[0mhowplaces\u001b[0m\u001b[0;34m(\u001b[0m\u001b[0;36m8\u001b[0m\u001b[0;34m)\u001b[0m\u001b[0;31m#ошибка\u001b[0m\u001b[0;34m\u001b[0m\u001b[0;34m\u001b[0m\u001b[0m\n\u001b[0m",
            "\u001b[0;31mAttributeError\u001b[0m: 'Table' object has no attribute 'howplaces'"
          ]
        }
      ]
    },
    {
      "cell_type": "markdown",
      "metadata": {
        "id": "oCApTOaFO72U"
      },
      "source": [
        "практическая 3"
      ]
    },
    {
      "cell_type": "code",
      "metadata": {
        "id": "t2s-ecqsPAMK",
        "outputId": "ef5f559e-c4cc-4388-f8e3-957952731bf1",
        "colab": {
          "base_uri": "https://localhost:8080/",
          "height": 51
        }
      },
      "source": [
        "class Figure:\n",
        "  color=\"white\"\n",
        "class oval(Figure):\n",
        "  def __init__(self,s,v, color = \"white\"):\n",
        "    self.size=s\n",
        "    self.volume=v\n",
        "    self.color=color\n",
        "    super(Figure,self). __init__()\n",
        "  def changesize (self,newsize):\n",
        "    self.size = newsize\n",
        "  def changevolume (self,newvolume):\n",
        "    self.volume = newvolume\n",
        "class Square(Figure):\n",
        "  def __init__(self,s,color1 = \"white\"):\n",
        "    self.sor = s\n",
        "    self.color1=color1\n",
        "  def changecolor (self,newcolor1):\n",
        "    self.color1 = newcolor1\n",
        "  def changesor (self, newsor):\n",
        "    self.sor = newsor\n",
        "obj1 = oval(15,10,\"Red\")\n",
        "obj2 = Square(12)\n",
        "print(obj1.size, obj1.volume, obj1.color)\n",
        "print(obj2.sor, obj2.color1)\n",
        "\n",
        "    \n",
        "\n"
      ],
      "execution_count": null,
      "outputs": [
        {
          "output_type": "stream",
          "text": [
            "15 10 Red\n",
            "12 white\n"
          ],
          "name": "stdout"
        }
      ]
    }
  ]
}