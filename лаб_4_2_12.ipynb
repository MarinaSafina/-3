{
  "nbformat": 4,
  "nbformat_minor": 0,
  "metadata": {
    "colab": {
      "name": "лаб 4.2.12.ipynb",
      "provenance": []
    },
    "kernelspec": {
      "name": "python3",
      "display_name": "Python 3"
    }
  },
  "cells": [
    {
      "cell_type": "code",
      "metadata": {
        "id": "1yIRXQoW7nBS",
        "outputId": "4ea76e52-2acd-4f33-f569-e1f1f6a4418a",
        "colab": {
          "base_uri": "https://localhost:8080/",
          "height": 153
        }
      },
      "source": [
        "# Программирование на языке высокого уровня (Python).\n",
        "# https://www.yuripetrov.ru/edu/python\n",
        "# Задание task_04_02_12.\n",
        "#\n",
        "# Выполнил: Фамилия И.О.\n",
        "# Группа: !!!\n",
        "# E-mail: !!!\n",
        "\n",
        "\n",
        "a = int(input(' a = '))\n",
        "b = int(input(' b = '))\n",
        "i=1\n",
        "if a<b:\n",
        "  while i<b:\n",
        "    print(i,end = ' ')\n",
        "    i=i+1\n",
        "else:\n",
        "  for i in range(b,a):\n",
        "   print( i, end = ' ') \n",
        "   i=i+1\n",
        "\n",
        "if a<b:\n",
        "  i=b+1\n",
        "  while i!=a-1:\n",
        "    print(i)\n",
        "    i=i-1\n",
        "else:\n",
        "  i=a+1\n",
        "  while i!=b-1:\n",
        "    print(i)\n",
        "    i=i-1\n",
        "\n",
        "# Удалите комментарий и допишите код\n",
        "\n",
        "# --------------\n",
        "# Пример вывода:\n",
        "#\n",
        "# a = 1\n",
        "# b = 5\n",
        "# 1 2 3 4 5\n",
        "# 5\n",
        "# 4\n",
        "# 3\n",
        "# 2\n",
        "# 1\n"
      ],
      "execution_count": null,
      "outputs": [
        {
          "output_type": "stream",
          "text": [
            " a = 1\n",
            " b = 5\n",
            "1 2 3 4 6\n",
            "5\n",
            "4\n",
            "3\n",
            "2\n",
            "1\n"
          ],
          "name": "stdout"
        }
      ]
    }
  ]
}