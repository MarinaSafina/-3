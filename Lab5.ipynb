{
  "nbformat": 4,
  "nbformat_minor": 0,
  "metadata": {
    "colab": {
      "name": "Lab5.ipynb",
      "provenance": []
    },
    "kernelspec": {
      "name": "python3",
      "display_name": "Python 3"
    }
  },
  "cells": [
    {
      "cell_type": "markdown",
      "metadata": {
        "id": "wbr_PGzTZFYD"
      },
      "source": [
        "№ 5.2.1\n",
        "\n",
        "Определите значение z=sgn(x)+y2sgn(y)−|x|−−√, где sgn - сигнум-функция, а x и y - вещественные числа:\n",
        "\n",
        "sgn(a)=⎧⎩⎨1,a>0,\n",
        "0,a=0\n",
        "−1, a<0"
      ]
    },
    {
      "cell_type": "code",
      "metadata": {
        "id": "Hs7SUoLHWjG_"
      },
      "source": [
        "# Программирование на языке высокого уровня (Python).\n",
        "# https://www.yuripetrov.ru/edu/python\n",
        "# Задание task_05_02_01.\n",
        "#\n",
        "# Выполнил: Сафина\n",
        "# Группа: !!!\n",
        "# E-mail: !!!\n",
        "\n",
        "import math\n",
        "def sgn(x):\n",
        "    global s\n",
        "    if x>0:\n",
        "      s=1\n",
        "    elif x == 0:\n",
        "      s=0\n",
        "    else:\n",
        "      s= -1\n",
        "    return s #Вернуть результат сигнум-функции.\n",
        "def function(x,y):\n",
        "    x1=sgn(x)\n",
        "    y1=sgn(y)\n",
        "    function1 = (x1 + y**2)/(y1 + math.sqrt(math.fabs(x)))\n",
        "    print(round(function1,2))\n",
        "\n",
        "\n",
        "# --------------\n",
        "# Пример вывода:\n",
        "#\n",
        "# Введите x: -9\n",
        "# Введите y: 0\n",
        "# Ответ: - 0.33"
      ],
      "execution_count": null,
      "outputs": []
    },
    {
      "cell_type": "code",
      "metadata": {
        "id": "xZqq1G3-S0LW",
        "outputId": "52be9d84-ee9f-4f35-bc22-e9e68bcb5a12",
        "colab": {
          "base_uri": "https://localhost:8080/"
        }
      },
      "source": [
        "x = float(input(\"Введите х: \"))\n",
        "y = float(input(\"Введите y: \"))\n",
        "print(\"Ответ: \")\n",
        "z=function(x,y)"
      ],
      "execution_count": null,
      "outputs": [
        {
          "output_type": "stream",
          "text": [
            "Введите х: -9\n",
            "Введите y: 0\n",
            "Ответ: \n",
            "-0.33\n"
          ],
          "name": "stdout"
        }
      ]
    },
    {
      "cell_type": "markdown",
      "metadata": {
        "id": "oZquXNULF3ym"
      },
      "source": [
        "№ 5.2.2\n",
        "\n",
        "Дан список температурных изменений в течение дня (целые числа). Известно, что измеряющее устройство иногда сбоит и записывает отсутствие температуры (значение None).\n",
        "\n",
        "Выведите среднюю температуру за наблюдаемый промежуток времени, предварительно очистив список от неопределенных значений. Гарантируется, что хотя бы одно определенное значение в списке есть."
      ]
    },
    {
      "cell_type": "code",
      "metadata": {
        "id": "boNkZ-_aF5i2",
        "outputId": "49f63858-b08b-4ef4-94b5-95d0f8b06f46",
        "colab": {
          "base_uri": "https://localhost:8080/"
        }
      },
      "source": [
        "# Программирование на языке высокого уровня (Python).\n",
        "# https://www.yuripetrov.ru/edu/python\n",
        "# Задание task_05_02_02.\n",
        "#\n",
        "# Выполнил: Сафина\n",
        "# Группа: !!!\n",
        "# E-mail: !!!\n",
        "import math\n",
        "temperature=[]\n",
        "sorted_temperature=[]\n",
        "n = int(input(\"Кол-во изменений: \"))\n",
        "x=1\n",
        "while x<=n:\n",
        "   print(\"Измерение\",x,'-е: ');\n",
        "   y=input()\n",
        "   x=x+1\n",
        "   temperature.append(y)\n",
        "for y in temperature:\n",
        "       if y!= \"-\" :\n",
        "         sorted_temperature.append(y)\n",
        "       else:\n",
        "         pass\n",
        "       k=0\n",
        "       for y in sorted_temperature:\n",
        "          y=int(y)\n",
        "          k+=y\n",
        "\n",
        "print(round(k/len(sorted_temperature),2))\n",
        "\n",
        "\n",
        "# Пример вывода:\n",
        "#\n",
        "# Кол-во измерений: 3\n",
        "# Измерение 1-е: 10\n",
        "# Измерение 2-е: -\n",
        "# Измерение 3-е: 20\n",
        "# Средняя температура: 15.00\n"
      ],
      "execution_count": null,
      "outputs": [
        {
          "output_type": "stream",
          "text": [
            "Кол-во изменений: 3\n",
            "Измерение 1 -е: \n",
            "10\n",
            "Измерение 2 -е: \n",
            "-\n",
            "Измерение 3 -е: \n",
            "20\n",
            "15.0\n"
          ],
          "name": "stdout"
        }
      ]
    },
    {
      "cell_type": "markdown",
      "metadata": {
        "id": "RCuxGxUD38iO"
      },
      "source": [
        "№ 5.2.16\n",
        "\n",
        "Составьте две функции для возведения числа в степень: один из вариантов реализуйте в рекурсивном стиле."
      ]
    },
    {
      "cell_type": "code",
      "metadata": {
        "id": "YC0IH-wi3-0l",
        "outputId": "280f0d9a-457e-4e95-c47b-69d41732caf2",
        "colab": {
          "base_uri": "https://localhost:8080/",
          "height": 51
        }
      },
      "source": [
        "# Программирование на языке высокого уровня (Python).\n",
        "# https://www.yuripetrov.ru/edu/python\n",
        "# Задание task_05_02_16.\n",
        "#\n",
        "# Выполнил: Сафина\n",
        "# Группа: !!!\n",
        "# E-mail: !!!\n",
        "\n",
        "\n",
        "def pow1(value, power):\n",
        "    v=value\n",
        "    p=power\n",
        "    return v**p #\"\"\"Вернуть 'value' в степени 'power'\n",
        "       \n",
        "    # Удалите комментарий и допишите код\n",
        "def pow2(value, power):\n",
        "    #\"\"\"Вернуть 'value' в степени 'power'. Рекурсивный алгоритм.\n",
        "    v=value\n",
        "    p=power\n",
        "    if v==0 or v==1:\n",
        "      return v\n",
        "    else:\n",
        "      return (v**p)*pow2(1,1)\n",
        "\n",
        "    # Удалите комментарий и допишите код\n",
        "\n",
        "\n",
        "print(pow1(5, 3))\n",
        "print(pow2(5, 3))\n",
        "\n",
        "\n",
        "# --------------\n",
        "# Пример вывода:\n",
        "#\n",
        "# 125\n",
        "# 125\n"
      ],
      "execution_count": null,
      "outputs": [
        {
          "output_type": "stream",
          "text": [
            "125\n",
            "125\n"
          ],
          "name": "stdout"
        }
      ]
    },
    {
      "cell_type": "markdown",
      "metadata": {
        "id": "6SmobC668n0T"
      },
      "source": [
        "№ 5.2.3\n",
        "\n",
        "Выведите все счастливые номера билетов в диапазоне от a до b (положительные целые числа, a<b), если известно, что счастливым считается номер, у которого количество четных цифр равно количеству нечетных.\n"
      ]
    },
    {
      "cell_type": "code",
      "metadata": {
        "id": "swGoijHyJMjN",
        "outputId": "d55d8ced-40c5-4931-d3f5-65cbb19e5b61",
        "colab": {
          "base_uri": "https://localhost:8080/"
        }
      },
      "source": [
        "# Программирование на языке высокого уровня (Python).\n",
        "# https://www.yuripetrov.ru/edu/python\n",
        "# Задание task_05_02_03.\n",
        "#\n",
        "# Выполнил: Safina\n",
        "# Группа: !!!\n",
        "# E-mail: !!!\n",
        "lucky_num=[]\n",
        "number=[]\n",
        "lk_num = []\n",
        "\n",
        "def is_lucky(num):\n",
        "    x=0\n",
        "    y=0\n",
        "    for n in map(int,str(num)):\n",
        "      if n%2 ==0:\n",
        "        x+=1\n",
        "      else:\n",
        "        y+=1\n",
        "    if x==y:\n",
        "      lucky_num.append(num)\n",
        "    else:\n",
        "      pass\n",
        "    # Удалите комментарий и допишите код\n",
        "def lucky_numbers(a, b):  \n",
        "     num=a   \n",
        "     while num in range(a,b):\n",
        "      is_lucky(num)\n",
        "      if num in lucky_num:\n",
        "        lk_num.append(num)\n",
        "        num+=1\n",
        "      else:\n",
        "        num+=1\n",
        "      \n",
        "     return lk_num\n",
        "    # Удалите комментарий и допишите код\n",
        "\n",
        "a = int(input(\"Первый номер билета: \"))\n",
        "b = int(input(\"Последний номер билета: \"))\n",
        "print(lucky_numbers(a,b))\n",
        "# Вывод должен быть осуществлен в строку с одним пробелом-разделителем\n",
        "# Удалите комментарий и допишите код\n",
        "\n",
        "# --------------\n",
        "# Пример вывода:\n",
        "#\n",
        "# Первый номер билета: 10\n",
        "# Последний номер билета: 25\n",
        "# 10 12 14 16 18 21 23 25\n"
      ],
      "execution_count": null,
      "outputs": [
        {
          "output_type": "stream",
          "text": [
            "Первый номер билета: 10\n",
            "Последний номер билета: 25\n",
            "[10, 12, 14, 16, 18, 21, 23]\n"
          ],
          "name": "stdout"
        }
      ]
    },
    {
      "cell_type": "markdown",
      "metadata": {
        "id": "O61RG_7g-crO"
      },
      "source": [
        "№ 5.2.4\n",
        "\n",
        "Дата характеризуется тремя натуральными числами: день, месяц и год. Учитывая, что год может быть високосным, реализуйте две функции, которые определяют вчерашнюю и завтрашнюю дату."
      ]
    },
    {
      "cell_type": "code",
      "metadata": {
        "id": "8WXwalpm-ZHn",
        "outputId": "e5d619e0-ac0e-43cd-c0e1-2aa2aae10733",
        "colab": {
          "base_uri": "https://localhost:8080/"
        }
      },
      "source": [
        "# Программирование на языке высокого уровня (Python).\n",
        "# https://www.yuripetrov.ru/edu/python\n",
        "# Задание task_05_02_04.\n",
        "#\n",
        "# Выполнил: Сафина М.Р.\n",
        "# Группа: !!!\n",
        "# E-mail: !!!\n",
        "def is_leap(year):\n",
        "    if year%4==0:\n",
        "      f=29\n",
        "    else:\n",
        "      f=28\n",
        "    return f\n",
        "\n",
        "def days(month, year):\n",
        "    #Вернуть количество дней в месяце 'month' года 'year'.\n",
        "    dayinmonte =[1,3,5,7,8,10,12]\n",
        "    dayinmonth =[4,6,9,11]\n",
        "    if month in dayinmonte:\n",
        "      date= 31\n",
        "    elif month in dayinmonth:\n",
        "      date = 30\n",
        "    else:\n",
        "      date = is_leap(year)\n",
        "    return date\n",
        "\n",
        "    # Удалите комментарий и допишите код\n",
        "\n",
        "\n",
        "def previous_date(day, month, year):\n",
        "    #\"\"\"Вернуть день, месяц, год предыдущего дня    \"\"\"\n",
        "    if day == 1:\n",
        "      month -=1\n",
        "      m = month\n",
        "      if month == 0:\n",
        "        year -=1\n",
        "        month=12\n",
        "        day = days(12, year)\n",
        "      else:\n",
        "        year = year\n",
        "        m=m\n",
        "        day = days(m,year)\n",
        "    else:\n",
        "      day -= 1\n",
        "      month = month\n",
        "      year=year\n",
        "    # Удалите комментарий и допишите код\n",
        "\n",
        "    return day, month, year\n",
        "\n",
        "def next_date(day, month, year):\n",
        "   # \"\"\"Вернуть день, месяц, год следующего дня.\n",
        "   if day== days(month,year):\n",
        "     month+=1\n",
        "     if month==13:\n",
        "       month=1\n",
        "       year+=1\n",
        "       day=1\n",
        "     else:\n",
        "        month+=1\n",
        "        year=year\n",
        "        day=1\n",
        "   else:\n",
        "      day+=1\n",
        "      month=month\n",
        "      year=year\n",
        "   return (day, month, year)\n",
        "  \n",
        "    # Удалите комментарий и допишите код\n",
        "\n",
        "\n",
        "day, month, year = input('День, месяц, год через пробел: ').split()\n",
        "day= int(day,base=10)\n",
        "month=int(month,base=10)\n",
        "year=int(year, base = 10)\n",
        "print('Предыдущий день: ',previous_date(day,month,year))\n",
        "print('Следующий день: ',next_date(day, month, year))\n",
        "\n",
        "# Удалите комментарий и допишите код\n",
        "\n",
        "# --------------\n",
        "# Пример вывода:\n",
        "#\n",
        "# День, месяц, год через пробел: 1 3 2000\n",
        "# Предыдущий день: 29/02/2000\n",
        "# Следующий день: 02/03/2000\n"
      ],
      "execution_count": null,
      "outputs": [
        {
          "output_type": "stream",
          "text": [
            "День, месяц, год через пробел: 1 1 2000\n",
            "Предыдущий день:  (31, 12, 1999)\n",
            "Следующий день:  (2, 1, 2000)\n"
          ],
          "name": "stdout"
        }
      ]
    },
    {
      "cell_type": "markdown",
      "metadata": {
        "id": "BFGek8k9ufqK"
      },
      "source": [
        "№ 5.2.5\n",
        "\n",
        "В задаче № 5.2.4 замените функции получения вчерашней и завтрашней даты на одну:\n",
        "\n",
        "def another_date(day, month, year, delta=1):\n",
        "    pass\n",
        "где delta - ключевой параметр, определяющий сколько дней необходимо добавить или вычесть (если аргумент отрицательный) из переданной даты. Функции, реализованные в задаче № 5.2.4 сделайте локальными для another_date(), вызывая их внутри необходимое количество раз."
      ]
    },
    {
      "cell_type": "code",
      "metadata": {
        "id": "JKPmi-HludfZ",
        "outputId": "7238c9b2-6204-48a7-ba41-9e8702a50ff4",
        "colab": {
          "base_uri": "https://localhost:8080/"
        }
      },
      "source": [
        "# Программирование на языке высокого уровня (Python).\n",
        "# https://www.yuripetrov.ru/edu/python\n",
        "# Задание task_05_02_05.\n",
        "#\n",
        "# Выполнил: Сафина\n",
        "# Группа: !!!\n",
        "# E-mail: !!!\n",
        "\n",
        "\n",
        "def is_leap(year):\n",
        "    if year%4==0:\n",
        "      f=29\n",
        "    else:\n",
        "      f=28\n",
        "    return f\n",
        "\n",
        "def days(month, year):\n",
        "    dayinmonte =[1,3,5,7,8,10,12]\n",
        "    dayinmonth =[4,6,9,11]\n",
        "    if month in dayinmonte:\n",
        "      date= 31\n",
        "    elif month in dayinmonth:\n",
        "      date = 30\n",
        "    else:\n",
        "      date = is_leap(year)\n",
        "    return date\n",
        "    # Удалите комментарий и допишите код\n",
        "\n",
        "\n",
        "def another_date(day, month, year, delta):\n",
        "  if delta<0:\n",
        "     day+=delta\n",
        "     if day<=0:\n",
        "       month-=1\n",
        "       if month==0:\n",
        "         month=12\n",
        "         year-=1\n",
        "         day=days(12,year)+day\n",
        "         print(days(12,year))\n",
        "       else:\n",
        "         month=month\n",
        "         year=year\n",
        "         day=days(month,year)+day\n",
        "     else:\n",
        "        day=day\n",
        "        month=month\n",
        "        year=year\n",
        "     return day, month, year\n",
        "  elif delta>0:\n",
        "        day+=delta\n",
        "        if day>days(month,year):\n",
        "          day=day-days(month,year)\n",
        "          month+=1\n",
        "          if month>12:\n",
        "            month-=12\n",
        "            year+=1\n",
        "          else:\n",
        "            month+=1\n",
        "            year=year\n",
        "        else:\n",
        "          day=day\n",
        "          month=month\n",
        "          year=year\n",
        "        return day, month, year\n",
        "  else:\n",
        "    return day, month, year\n",
        "\n",
        "    # Удалите комментарий и допишите код\n",
        "\n",
        "day, month, year = input('День, месяц, год через пробел: ').split()\n",
        "day= int(day,base=10)\n",
        "month=int(month,base=10)\n",
        "year=int(year, base = 10)\n",
        "delta = int(input('Свдиг (может быть отрицательным): '))\n",
        "print('Новый день: ', another_date(day, month, year, delta))\n",
        "\n",
        "# Удалите комментарий и допишите код\n",
        "\n",
        "# --------------\n",
        "# Пример вывода:\n",
        "#\n",
        "# День, месяц, год через пробел: 1 1 2000\n",
        "# Свдиг (может быть отрицательным): -2\n",
        "# Новый день: 30/12/1999\n",
        "#\n",
        "# День, месяц, год через пробел: 1 1 2000\n",
        "# Свдиг (может быть отрицательным): 2\n",
        "# Новый день: 03/01/2000\n"
      ],
      "execution_count": null,
      "outputs": [
        {
          "output_type": "stream",
          "text": [
            "День, месяц, год через пробел: 1 1 2000\n",
            "Свдиг (может быть отрицательным): 2\n",
            "Новый день:  (3, 1, 2000)\n"
          ],
          "name": "stdout"
        }
      ]
    },
    {
      "cell_type": "markdown",
      "metadata": {
        "id": "b2vwlsyUaIuV"
      },
      "source": [
        "№ 5.2.7\n",
        "\n",
        "Даны n предложений. Определите, сколько из них содержат хотя бы одну цифру.\n"
      ]
    },
    {
      "cell_type": "code",
      "metadata": {
        "id": "LOMQqbDHaevX",
        "outputId": "36b94b80-4699-477a-9287-0773fcb6e529",
        "colab": {
          "base_uri": "https://localhost:8080/"
        }
      },
      "source": [
        "# Программирование на языке высокого уровня (Python).\n",
        "# https://www.yuripetrov.ru/edu/python\n",
        "# Задание task_05_02_07.\n",
        "#\n",
        "# Выполнил: Сафина\n",
        "# Группа: !!!\n",
        "# E-mail: !!!\n",
        "global d\n",
        "def has_digits(sentence):\n",
        "    d=0\n",
        "    s=[]\n",
        "    s=str(sentence)\n",
        "    numbers=[0,1,2,3,4,5,6,7,8,9]\n",
        "    if (n in s for n in numbers ) :\n",
        "      d+=1\n",
        "    else:\n",
        "      pass \n",
        "    return d   \n",
        "\n",
        "def sentences_with_digits_count(sentences):\n",
        "    print(\"Предложений с цифрой = \", has_digits(z))\n",
        "\n",
        "\n",
        "n = int(input('Введите количество предложений : '))\n",
        "x=1\n",
        "while x<=n :\n",
        "  print('Введите предложение №',x,':')\n",
        "  z=input()\n",
        "  x+=1\n",
        "sentences_with_digits_count(z)\n",
        "\n",
        "\n",
        "# --------------\n",
        "# Пример вывода:\n",
        "#\n",
        "# Введите количество предложений: 3\n",
        "# Введите предложение №1:\n",
        "# Просто текст\n",
        "# Введите предложение №2:\n",
        "# Текст с цифрой 1 (один)\n",
        "# Введите предложение №3:\n",
        "# Тут нет цифры\n",
        "# Предложений с цифрой = 1\n"
      ],
      "execution_count": null,
      "outputs": [
        {
          "output_type": "stream",
          "text": [
            "Введите количество предложений : 3\n",
            "Введите предложение № 1 :\n",
            "hj\n",
            "Введите предложение № 2 :\n",
            "3f\n",
            "Введите предложение № 3 :\n",
            "fj\n",
            " Предложений с цифрой =  1\n"
          ],
          "name": "stdout"
        }
      ]
    },
    {
      "cell_type": "markdown",
      "metadata": {
        "id": "WUlxYc9x-iMr"
      },
      "source": [
        "№ 5.2.14\n",
        "\n",
        "Напишите функцию, которая принимает неограниченное количество числовых аргументов и возвращает кортеж из двух списков:\n",
        "\n",
        "отрицательных значений (отсортирован по убыванию);\n",
        "\n",
        "неотрицательных значений (отсортирован по возрастанию).\n",
        "\n"
      ]
    },
    {
      "cell_type": "code",
      "metadata": {
        "id": "YV03_b_r-jBs",
        "outputId": "73be9a27-209f-4adb-c4f8-7c94a3d8474e",
        "colab": {
          "base_uri": "https://localhost:8080/"
        }
      },
      "source": [
        "# Программирование на языке высокого уровня (Python).\n",
        "# https://www.yuripetrov.ru/edu/python\n",
        "# Задание task_05_02_14.\n",
        "#\n",
        "# Выполнил: Сафина\n",
        "# Группа: !!!\n",
        "# E-mail: !!!\n",
        "minus=[]\n",
        "plus=[]\n",
        "numbers=list(map(int,input().split()))\n",
        "def split_numbers(numbers):\n",
        "   for n in numbers:\n",
        "     if n<0:\n",
        "       minus.append(n)\n",
        "     else:\n",
        "       plus.append(n)\n",
        "   plus.sort()\n",
        "   minus.sort()\n",
        "   minus.reverse()\n",
        "   print('(',minus ,',',plus,')')\n",
        "\n",
        "\n",
        "    # Удалите комментарий и допишите код\n",
        "\n",
        "\n",
        "print(split_numbers(numbers))\n",
        "\n",
        "# --------------\n",
        "# Пример вывода:\n",
        "#\n",
        "# ([-5, -33], [0, 1, 4])\n"
      ],
      "execution_count": null,
      "outputs": [
        {
          "output_type": "stream",
          "text": [
            "1 4 -5 0 -33\n",
            "( [-5, -33] , [0, 1, 4] )\n",
            "None\n"
          ],
          "name": "stdout"
        }
      ]
    }
  ]
}