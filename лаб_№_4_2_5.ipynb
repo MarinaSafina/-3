{
  "nbformat": 4,
  "nbformat_minor": 0,
  "metadata": {
    "colab": {
      "name": "лаб № 4.2.5.ipynb",
      "provenance": []
    },
    "kernelspec": {
      "name": "python3",
      "display_name": "Python 3"
    }
  },
  "cells": [
    {
      "cell_type": "markdown",
      "metadata": {
        "id": "hYk15oCRvA6O"
      },
      "source": [
        "№ 4.2.5\n",
        "\n",
        "Дана точка с целыми ненулевыми координатами (x;y). Определить номер четверти координатной плоскости, которой она принадлежит."
      ]
    },
    {
      "cell_type": "code",
      "metadata": {
        "id": "lcf9yeKFu_cJ",
        "outputId": "b259510e-2b9c-4525-b403-1fbba89ab351",
        "colab": {
          "base_uri": "https://localhost:8080/",
          "height": 68
        }
      },
      "source": [
        "# Программирование на языке высокого уровня (Python).\n",
        "# https://www.yuripetrov.ru/edu/python\n",
        "# Задание task_04_02_05.\n",
        "#\n",
        "# Выполнил: Фамилия И.О.\n",
        "# Группа: !!!\n",
        "# E-mail: !!!\n",
        "\n",
        "\n",
        "x = int(input(' введите координату x : '))\n",
        "y = int(input(' введите координату y :  '))\n",
        "\n",
        "if x>0 and y>0:\n",
        "    print(\"1-я четверть\")\n",
        "elif x<0 and y>0:\n",
        "    print(\"2-я четверть\")\n",
        "elif x<0 and y<0:\n",
        "    print(\"3-я четверть\")\n",
        "elif x>0 and y<0:\n",
        "    print(\"4-я четверть\")\n",
        "# Удалите комментарий и допишите код\n",
        "\n",
        "# --------------\n",
        "# Пример вывода:\n",
        "#\n",
        "# Введите координату x: 5\n",
        "# Введите координату y: 7\n",
        "# 1-я четверть\n"
      ],
      "execution_count": null,
      "outputs": [
        {
          "output_type": "stream",
          "text": [
            " введите координату x : 5\n",
            " введите координату y :  7\n",
            "1-я четверть\n"
          ],
          "name": "stdout"
        }
      ]
    }
  ]
}