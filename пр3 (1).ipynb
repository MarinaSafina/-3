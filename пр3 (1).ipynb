{
  "nbformat": 4,
  "nbformat_minor": 0,
  "metadata": {
    "colab": {
      "name": "пр3.ipynb",
      "provenance": []
    },
    "kernelspec": {
      "name": "python3",
      "display_name": "Python 3"
    }
  },
  "cells": [
    {
      "cell_type": "code",
      "metadata": {
        "id": "f52qdQCewlaY"
      },
      "source": [
        "class One:\n",
        "  def __init__(self,a):\n",
        "    self.a=a**2\n",
        "\n",
        "class Two:\n",
        "  def __init__(self,a):\n",
        "    self.a=a*2\n",
        "\n"
      ],
      "execution_count": null,
      "outputs": []
    },
    {
      "cell_type": "code",
      "metadata": {
        "colab": {
          "base_uri": "https://localhost:8080/"
        },
        "id": "J9xS6FiZ0HYY",
        "outputId": "3e938b4c-31de-476b-b471-a90c1362bf80"
      },
      "source": [
        "a=input('Введите число')\n",
        "a=int(a)\n",
        "if -100<a<100:\n",
        "  obj=One(a)\n",
        "else:\n",
        "  obj=Two(a)\n",
        "print(obj.a)"
      ],
      "execution_count": null,
      "outputs": [
        {
          "output_type": "stream",
          "text": [
            "Введите число23\n",
            "529\n"
          ],
          "name": "stdout"
        }
      ]
    },
    {
      "cell_type": "code",
      "metadata": {
        "id": "WyCvePeJyPdm"
      },
      "source": [
        "class Base:\n",
        "  def __init__(self,n):\n",
        "    self.numb=n\n",
        "  def out(self):\n",
        "    print(self.numb)\n",
        "\n",
        "class One(Base):\n",
        "  def multi(self,m):\n",
        "    self.numb*=m\n",
        "\n",
        "class Two(Base):\n",
        "  def inlist(self):\n",
        "    self.inlist=list(str(self.numb))\n",
        "  def out(self):\n",
        "    i=0\n",
        "    while i<len(self.inlist):\n",
        "      print(self.inlist[i])\n",
        "      i+=1\n"
      ],
      "execution_count": null,
      "outputs": []
    },
    {
      "cell_type": "code",
      "metadata": {
        "colab": {
          "base_uri": "https://localhost:8080/"
        },
        "id": "3QbgJdogzYby",
        "outputId": "c4ec2a9b-af9c-42f9-a304-be7fd9a3cb35"
      },
      "source": [
        "obj1= One(45)\n",
        "obj2=Two('abc')\n",
        "\n",
        "obj1.multi(2)\n",
        "obj1.out()\n",
        "\n",
        "obj2.inlist()\n",
        "obj2.out()"
      ],
      "execution_count": null,
      "outputs": [
        {
          "output_type": "stream",
          "text": [
            "90\n",
            "a\n",
            "b\n",
            "c\n"
          ],
          "name": "stdout"
        }
      ]
    },
    {
      "cell_type": "code",
      "metadata": {
        "colab": {
          "base_uri": "https://localhost:8080/"
        },
        "id": "WnOhP4zh0MUN",
        "outputId": "a1237bd8-df77-4e62-8688-25d100bde860"
      },
      "source": [
        "class Base:\n",
        "  def __init__(self,N):\n",
        "    self.numb=N\n",
        "  def out(self):\n",
        "    self.numb/=2\n",
        "    print(self.numb)\n",
        "\n",
        "class Subclass(Base):\n",
        "  def out(self):\n",
        "    print('\\n----')\n",
        "    Base.out(self)\n",
        "    print('----\\n')\n",
        "\n",
        "i=0\n",
        "while i<10:\n",
        "  if 4<i<7:\n",
        "    obj = Subclass(i)\n",
        "  else:\n",
        "    obj=Base(i)\n",
        "  i+=1\n",
        "  obj.out()"
      ],
      "execution_count": null,
      "outputs": [
        {
          "output_type": "stream",
          "text": [
            "0.0\n",
            "0.5\n",
            "1.0\n",
            "1.5\n",
            "2.0\n",
            "\n",
            "----\n",
            "2.5\n",
            "----\n",
            "\n",
            "\n",
            "----\n",
            "3.0\n",
            "----\n",
            "\n",
            "3.5\n",
            "4.0\n",
            "4.5\n"
          ],
          "name": "stdout"
        }
      ]
    }
  ]
}