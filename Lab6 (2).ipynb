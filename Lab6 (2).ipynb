{
  "nbformat": 4,
  "nbformat_minor": 0,
  "metadata": {
    "colab": {
      "name": "Lab6.ipynb",
      "provenance": []
    },
    "kernelspec": {
      "name": "python3",
      "display_name": "Python 3"
    }
  },
  "cells": [
    {
      "cell_type": "markdown",
      "metadata": {
        "id": "YBYFykkokn6D"
      },
      "source": [
        "6/2/1-6/2/7\n",
        "Для задач 6.2.1-6.2.7 ответьте на следующие вопросы:\n",
        "\n",
        "Что выполняет приведенная функция?\n",
        "\n",
        "Какова вычислительная сложность алгоритма (наихудшая оценка, O-нотацию)?\n",
        "\n",
        "Ответы необходимо указать в строке документации с пометкой «Алгоритм» и «Сложность» соответственно. Сложность - один из вариантов:\n",
        "\n",
        "O(1), O(N), O(log(N)), O(N log(N)) или O(N^2).\n",
        "считая, что N - размер входных данных."
      ]
    },
    {
      "cell_type": "code",
      "metadata": {
        "id": "t6i3QSpfkmH1",
        "colab": {
          "base_uri": "https://localhost:8080/"
        },
        "outputId": "358e1088-d8d3-4b32-d391-2cb32681ef84"
      },
      "source": [
        "# Программирование на языке высокого уровня (Python).\n",
        "# https://www.yuripetrov.ru/edu/python\n",
        "# Задание task_06_02_01.\n",
        "# Выполнил: Safina\n",
        "# Группа: !!!\n",
        "# E-mail: !!!\n",
        "#Алгоритм: занимается сортировкой списка по возрастанию\n",
        "\n",
        "\n",
        "def foo(a):\n",
        "   \n",
        "    for i in range(len(a), 0, -1): #O(len(a))\n",
        "        for j in range(1, i):#O(N)\n",
        "            if a[j-1] > a[j]:#O(1)\n",
        "                a[j-1], a[j] = a[j], a[j-1] #O(1)\n",
        "    return a\n",
        "\n",
        "#O(len(a))*#O(N)*(#O(1)+#O(1))=2*N*O(len(a))\n",
        "a = [1, 2, 3, 4, 2, 1, 3, 4, 3, 5, -2, -2, 2, -2, 65, 2, 2]\n",
        "foo(a)\n"
      ],
      "execution_count": null,
      "outputs": [
        {
          "output_type": "execute_result",
          "data": {
            "text/plain": [
              "[-2, -2, -2, 1, 1, 2, 2, 2, 2, 2, 3, 3, 3, 4, 4, 5, 65]"
            ]
          },
          "metadata": {
            "tags": []
          },
          "execution_count": 3
        }
      ]
    },
    {
      "cell_type": "code",
      "metadata": {
        "id": "II7PZO9AorPO"
      },
      "source": [
        "# Программирование на языке высокого уровня (Python).\n",
        "# https://www.yuripetrov.ru/edu/python\n",
        "# Задание task_06_02_02.\n",
        "#\n",
        "# Выполнил: Сафина\n",
        "# Группа: !!!\n",
        "# E-mail: !!!\n",
        "# Алгоритм: выводит то же самое число\n",
        "\n",
        "\n",
        "\n",
        "def foo(i):\n",
        "    digits = \"0123456789\"\n",
        "    if i == 0:#O(1)\n",
        "        return \"0\"\n",
        "    result = \"\"\n",
        "    while i > 0:#O(N)\n",
        "        result = digits[i%10] + result\n",
        "        i = i // 10\n",
        "    return result\n",
        "#O(N)+O(1)=1+O(N)"
      ],
      "execution_count": null,
      "outputs": []
    },
    {
      "cell_type": "code",
      "metadata": {
        "id": "OxGbqp0ZpEUB"
      },
      "source": [
        "# Программирование на языке высокого уровня (Python).\n",
        "# https://www.yuripetrov.ru/edu/python\n",
        "# Задание task_06_02_03.\n",
        "#\n",
        "# Выполнил: Сафина\n",
        "# Группа: !!!\n",
        "# E-mail: !!!\n",
        "# Алгоритм: выводит сумму чисел, записанных в веденной строке\n",
        "\n",
        "def foo(s):\n",
        "    val = 0\n",
        "    for c in s: #O(N)\n",
        "        if c.isdigit():#O(1)\n",
        "            val += int(c)\n",
        "    return val\n",
        "#O(N)*O(1)=O(N)"
      ],
      "execution_count": null,
      "outputs": []
    },
    {
      "cell_type": "code",
      "metadata": {
        "id": "-CSAso5Ir1fg"
      },
      "source": [
        "# Программирование на языке высокого уровня (Python).\n",
        "# https://www.yuripetrov.ru/edu/python\n",
        "# Задание task_06_02_04.\n",
        "#\n",
        "# Выполнил: Сафина\n",
        "# Группа: !!!\n",
        "# E-mail: !!!\n",
        "# Алгоритм: выводит все числа до введенного числа\n",
        "\n",
        "\n",
        "\n",
        "def foo(n):\n",
        "    \n",
        "    res = []\n",
        "    for i in range(1, n + 1):#O(N)\n",
        "        divisors = 0\n",
        "        j = 2\n",
        "        while j < i and divisors == 0:#O(1)\n",
        "            if i % j == 0:#O(1)\n",
        "                divisors += 1\n",
        "            j += 1\n",
        "\n",
        "        if divisors == 0:#O(1)\n",
        "            res.append(i)\n",
        "\n",
        "    return res\n",
        "#O(N)*(O(1)*O(1)+O(1))= 2* O(N)"
      ],
      "execution_count": null,
      "outputs": []
    },
    {
      "cell_type": "code",
      "metadata": {
        "id": "6QApJgjDsozs"
      },
      "source": [
        "# Программирование на языке высокого уровня (Python).\n",
        "# https://www.yuripetrov.ru/edu/python\n",
        "# Задание task_06_02_05.\n",
        "#\n",
        "# Выполнил: Сафина\n",
        "# Группа: !!!\n",
        "# E-mail: !!!\n",
        "# Алгоритм: проверяет четность/нечетность элементов списка, если хотя бы один - четный, то выводится True\n",
        "\n",
        "\n",
        "\n",
        "def foo(nums):\n",
        "    \n",
        "    for x in nums:#O(1)\n",
        "        if x % 2 == 0:#O(1)\n",
        "            return True\n",
        "    else:\n",
        "        return False\n",
        "#1"
      ],
      "execution_count": null,
      "outputs": []
    },
    {
      "cell_type": "code",
      "metadata": {
        "id": "-aObST_03pyM"
      },
      "source": [
        "# Программирование на языке высокого уровня (Python).\n",
        "# https://www.yuripetrov.ru/edu/python\n",
        "# Задание task_06_02_06.\n",
        "#\n",
        "# Выполнил: Сафина\n",
        "# Группа: !!!\n",
        "# E-mail: !!!\n",
        "# Алгоритм: вычисляет сумму первого элемента и последнего элемента в квадрате\n",
        "# Сложность: О(1)\n",
        "\n",
        "def foo(nums):\n",
        "    return (nums[0] + nums[-1] ** 2)#O(1)\n"
      ],
      "execution_count": null,
      "outputs": []
    }
  ]
}