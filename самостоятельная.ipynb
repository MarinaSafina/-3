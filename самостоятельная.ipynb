{
  "nbformat": 4,
  "nbformat_minor": 0,
  "metadata": {
    "colab": {
      "name": "самостоятельная.ipynb",
      "provenance": [],
      "collapsed_sections": []
    },
    "kernelspec": {
      "name": "python3",
      "display_name": "Python 3"
    }
  },
  "cells": [
    {
      "cell_type": "code",
      "metadata": {
        "id": "nVGq6lx_2Rim"
      },
      "source": [
        "class Time:\n",
        "  def __init__(self,h,m,s): #конструктор\n",
        "    self.__hours = h\n",
        "    self.__minute = m\n",
        "    self.__second = s\n",
        "  def left_time(self): #функция-метод обработки данныx\n",
        "    global timeleft\n",
        "    time = 1440\n",
        "    m1=1/60* self.__second\n",
        "    m2=60*self.__hours\n",
        "    m=self.__minute\n",
        "    m+=m1+m2\n",
        "    timeleft = time - m\n",
        "    return round(timeleft)\n",
        "  def changetime(self):#функция-метод обработки данныx\n",
        "    ch = timeleft - 100\n",
        "    return round(ch)\n",
        "  def __del__(self): #деструктор\n",
        "        print(\"Удаление экземпляра: t\")\n",
        "\n",
        "\n",
        "\n",
        "\n",
        "\n"
      ],
      "execution_count": 8,
      "outputs": []
    },
    {
      "cell_type": "code",
      "metadata": {
        "id": "3YeY72Sk6mBu",
        "outputId": "c9c50b6e-5d03-4b62-c3eb-89b439c9078f",
        "colab": {
          "base_uri": "https://localhost:8080/",
          "height": 68
        }
      },
      "source": [
        "t=Time(15,17,45)\n",
        "print(t.left_time())\n",
        "print(t.changetime())\n",
        "del t"
      ],
      "execution_count": 13,
      "outputs": [
        {
          "output_type": "stream",
          "text": [
            "522\n",
            "422\n",
            "Удаление экземпляра: t\n"
          ],
          "name": "stdout"
        }
      ]
    }
  ]
}