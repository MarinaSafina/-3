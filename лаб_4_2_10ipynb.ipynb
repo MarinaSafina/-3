{
  "nbformat": 4,
  "nbformat_minor": 0,
  "metadata": {
    "colab": {
      "name": "лаб 4.2.10ipynb",
      "provenance": []
    },
    "kernelspec": {
      "name": "python3",
      "display_name": "Python 3"
    }
  },
  "cells": [
    {
      "cell_type": "markdown",
      "metadata": {
        "id": "Fja921VE5K0P"
      },
      "source": [
        "Дано натуральное число. Определите сумму и количество его цифр."
      ]
    },
    {
      "cell_type": "code",
      "metadata": {
        "id": "hGOk3NEu5D86",
        "outputId": "a073343d-f81b-48f8-d7d7-0157a1c49699",
        "colab": {
          "base_uri": "https://localhost:8080/",
          "height": 68
        }
      },
      "source": [
        "# Программирование на языке высокого уровня (Python).\n",
        "# https://www.yuripetrov.ru/edu/python\n",
        "# Задание task_04_02_10.\n",
        "#\n",
        "# Выполнил: Фамилия И.О.\n",
        "# Группа: !!!\n",
        "# E-mail: !!!\n",
        "\n",
        "\n",
        "n = int(input('n = '))\n",
        "\n",
        "n_sum = 0\n",
        "n_count = 0\n",
        "while n!=0:\n",
        "  n_sum= n_sum + n%10\n",
        "  n_count= n_count+1\n",
        "  n= n//10\n",
        "print('Сумма = ', n_sum)\n",
        "print(\"Количество = \", n_count)\n",
        "\n",
        "# Удалите комментарий и допишите код\n",
        "\n",
        "# --------------\n",
        "# Пример вывода:\n",
        "#\n",
        "# n = 12345\n",
        "# Сумма = 15\n",
        "# Количество = 5\n"
      ],
      "execution_count": null,
      "outputs": [
        {
          "output_type": "stream",
          "text": [
            "n = 12345\n",
            "Сумма =  15\n",
            "Количество =  5\n"
          ],
          "name": "stdout"
        }
      ]
    }
  ]
}