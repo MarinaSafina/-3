{
  "nbformat": 4,
  "nbformat_minor": 0,
  "metadata": {
    "colab": {
      "name": "практика 1.ipynb",
      "provenance": [],
      "collapsed_sections": []
    },
    "kernelspec": {
      "name": "python3",
      "display_name": "Python 3"
    }
  },
  "cells": [
    {
      "cell_type": "code",
      "metadata": {
        "id": "ynGphGR2pLw6"
      },
      "source": [
        "class Point:\n",
        "  amount= 0\n",
        "  def __init__(self,*args):#конструктор\n",
        "    if len(args) == 2:\n",
        "      self.x = args[0]\n",
        "      self.y= args[1]\n",
        "    else:\n",
        "      self.x=self.y=0\n",
        "    Point.amount-=1\n",
        "  def __del__(self): #деструктор\n",
        "    Point.amount -=1\n",
        "  def distance(self): \n",
        "    return (self.x**2+self.y**2)**0,5\n",
        "  def __str__(self):# вывод (преобразование в строку)\n",
        "    return '({};{})'. format(self.x, self.y)\n",
        "p=Point(36,42)\n",
        "\n",
        "print(p)\n",
        "print(p.distance())"
      ],
      "execution_count": null,
      "outputs": []
    },
    {
      "cell_type": "code",
      "metadata": {
        "id": "AwfP1yaZpl83",
        "outputId": "0d412a0d-52aa-474f-8c9f-0816b07a56ba",
        "colab": {
          "base_uri": "https://localhost:8080/",
          "height": 119
        }
      },
      "source": [
        "class Point(object):\n",
        "  amount= 0\n",
        "  def __init__(self,*args):#конструктор\n",
        "    if len(args) == 2:\n",
        "      self.x = args[0]\n",
        "      self.y= args[1]\n",
        "    else:\n",
        "      self.x=self.y=0\n",
        "    Point.amount-=1 \n",
        "  def __del__(self): #деструктор\n",
        "    Point.amount -=1\n",
        "  def distance(self): \n",
        "    return (self.x**2+self.y**2)**0,5\n",
        "    self.distance = p.distance\n",
        "    p.distance = round(p.distance( ),2)\n",
        "  def __str__(self):# вывод (преобразование в строку)\n",
        "    return '({};{})'. format(self.x, self.y)\n",
        "\n",
        "from math import sqrt, pi\n",
        "class Circle( ):\n",
        "  def __init__(self, x, y, r):\n",
        "    self.centre = Point(x,y)\n",
        "    self.radius = r\n",
        "  def LenCircle(self):\n",
        "    return 2*pi*self.radius\n",
        "  def square(self):\n",
        "    return pi*self.radius**2\n",
        "  def Move (self, x,y):\n",
        "    self.centre.x = x\n",
        "    self.centre.y = y\n",
        "  def distance(self):\n",
        "   return sqrt(self.centre.x**2+self.centre.y**2)\n",
        "  def __str__(self):\n",
        "   return 'Circle : centre : {}, radius : {}'. format(self.centre, self.radius )\n",
        "p=Point(36,42)\n",
        "print(p)\n",
        "print(p.distance())\n",
        "c=Circle(3,4,7)\n",
        "print(c)\n",
        "print(c.distance())\n",
        "print(c.centre)\n",
        "print(c.square())"
      ],
      "execution_count": 1,
      "outputs": [
        {
          "output_type": "stream",
          "text": [
            "(36;42)\n",
            "(1, 5)\n",
            "Circle : centre : (3;4), radius : 7\n",
            "5.0\n",
            "(3;4)\n",
            "153.93804002589985\n"
          ],
          "name": "stdout"
        }
      ]
    },
    {
      "cell_type": "code",
      "metadata": {
        "id": "BRm02EQwpkkZ"
      },
      "source": [
        "class Cat:\n",
        "  def __init__(self):\n",
        "    self.hungry = True\n",
        "  def eat(self):\n",
        "    if self.hungry:\n",
        "      print ('I am hungry ...')\n",
        "      self.hungry = False\n",
        "    else:\n",
        "      print('No,thanks!')\n",
        "  \n",
        "class Barsik(Cat):\n",
        "  def __init__(self):\n",
        "    Cat.__init__(self)\n",
        "    self.sound= 'Aaaammm'\n",
        "    print (self.sound)\n",
        "\n",
        "\n",
        "brs= Barsik()\n",
        "print(brs.eat( ))"
      ],
      "execution_count": null,
      "outputs": []
    },
    {
      "cell_type": "code",
      "metadata": {
        "id": "_0GbVtRsr73Z"
      },
      "source": [
        "class Base:\n",
        "  def __init__ (self,n):\n",
        "    self.numb = n\n",
        "  def out(self):\n",
        "    print(self.numb)\n",
        "\n",
        "class One(Base):\n",
        "  def multi(self,m):\n",
        "    self.numb*=m\n",
        "\n",
        "class Two(Base):\n",
        "  def inlist(self):\n",
        "    self.inlist = list(str(self.numb))\n",
        "  def out(self): \n",
        "    i=0\n",
        "    while i < len(self.inlist):\n",
        "     print(self.inlist[i])\n",
        "     i+=1\n",
        "obj1= One(45)\n",
        "obj2=Two('abc')\n",
        "\n",
        "obj1.multi(2)\n",
        "obj1.out()\n",
        "\n",
        "obj2.inlist()\n",
        "obj2.out()"
      ],
      "execution_count": null,
      "outputs": []
    },
    {
      "cell_type": "code",
      "metadata": {
        "id": "QSDLZvmys4Tv"
      },
      "source": [
        "class T1:\n",
        "  n=10 \n",
        "  def total(self,N):\n",
        "    self.total = int(self.n)+int(N)\n",
        "class T2:\n",
        "  def total(self,s):\n",
        "    self.total= len(str(s))\n",
        "t1=T1()\n",
        "t2=T2()\n",
        "t1.total(45)\n",
        "t2.total(45)\n",
        "print(t1.total)\n",
        "print(t2.total)"
      ],
      "execution_count": null,
      "outputs": []
    },
    {
      "cell_type": "code",
      "metadata": {
        "id": "I85R5ar-toKP"
      },
      "source": [
        "class C1:\n",
        "   def __init__ (self,n):\n",
        "    self.n = n**2\n",
        "class C2:\n",
        "  def __init__ (self,n):\n",
        "    self.n = n*2 \n",
        "n=input('Введите число n = ')\n",
        "n=int(n)\n",
        "if -100<n<100:\n",
        "  obj = C1(n)\n",
        "else:\n",
        "  obj=C2(n)\n",
        "\n",
        "print(obj.n)"
      ],
      "execution_count": null,
      "outputs": []
    }
  ]
}