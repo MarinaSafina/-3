{
  "nbformat": 4,
  "nbformat_minor": 0,
  "metadata": {
    "colab": {
      "name": "лаб№ 3.2.6.ipynb",
      "provenance": []
    },
    "kernelspec": {
      "name": "python3",
      "display_name": "Python 3"
    }
  },
  "cells": [
    {
      "cell_type": "markdown",
      "metadata": {
        "id": "HFj6doEzr3o3"
      },
      "source": [
        "№ 3.2.6\n",
        "\n",
        "Дано уравнение ax + b = 0 и отрезок [m;n]. Ответьте на вопрос, попадает ли решение уравнения в указанный отрезок.\n"
      ]
    },
    {
      "cell_type": "code",
      "metadata": {
        "id": "3m08yyttrzr7",
        "outputId": "91de87c2-8918-4dda-d3d5-16971e47ada8",
        "colab": {
          "base_uri": "https://localhost:8080/",
          "height": 102
        }
      },
      "source": [
        "# Программирование на языке высокого уровня (Python).\n",
        "# https://www.yuripetrov.ru/edu/python\n",
        "# Задание task_03_02_06.\n",
        "#\n",
        "# Выполнил: Сафина М.Р.\n",
        "# Группа: АДЭУ 201\n",
        "# E-mail: !!!\n",
        "\n",
        "\n",
        "a = int(input('введите a='))\n",
        "b = int(input('введите b='))\n",
        "m = int(input('введите m='))\n",
        "n = int(input('введите n='))\n",
        "\n",
        "x = -b/a\n",
        "if a=0 and b=0:\n",
        "  print('ошибка')\n",
        "m<=x<=n\n",
        "\n",
        "is_ok = m<=x<=n\n",
        "\n",
        "\n",
        "print(\"Попадает:\", is_ok) \n",
        "\n",
        "\n",
        "\n",
        "# --------------\n",
        "# Пример вывода:\n",
        "#\n",
        "# Введите a = 1\n",
        "# Введите b = 2\n",
        "# Введите m = -5\n",
        "# Введите n = 5\n",
        "# Попадает: True\n"
      ],
      "execution_count": null,
      "outputs": [
        {
          "output_type": "stream",
          "text": [
            "введите a=1\n",
            "введите b=2\n",
            "введите m=-5\n",
            "введите n=5\n",
            "Попадает: True\n"
          ],
          "name": "stdout"
        }
      ]
    }
  ]
}