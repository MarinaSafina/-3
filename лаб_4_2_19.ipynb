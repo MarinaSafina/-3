{
  "nbformat": 4,
  "nbformat_minor": 0,
  "metadata": {
    "colab": {
      "name": "лаб 4.2.19.ipynb",
      "provenance": []
    },
    "kernelspec": {
      "name": "python3",
      "display_name": "Python 3"
    }
  },
  "cells": [
    {
      "cell_type": "markdown",
      "metadata": {
        "id": "rf_1pjG-pKmt"
      },
      "source": [
        "№ 4.2.19\n",
        "\n",
        "Выведите на экран (в строку) все целые числа от a до b, кратные некоторому числу c."
      ]
    },
    {
      "cell_type": "code",
      "metadata": {
        "id": "E8hhCc98pGPw",
        "outputId": "06c31129-91a3-47b4-8a21-4ea0151d3ad7",
        "colab": {
          "base_uri": "https://localhost:8080/",
          "height": 85
        }
      },
      "source": [
        "# Программирование на языке высокого уровня (Python).\n",
        "# https://www.yuripetrov.ru/edu/python\n",
        "# Задание task_04_02_19.\n",
        "#\n",
        "# Выполнил: Фамилия И.О.\n",
        "# Группа: !!!\n",
        "# E-mail: !!!\n",
        "\n",
        "\n",
        "a = int(input( ' a = '))\n",
        "b = int(input( ' b = '))\n",
        "c = int(input( ' c = '))\n",
        "i=a\n",
        "for i in (a,b):\n",
        "  while i<=b:\n",
        "    if i%c==0:\n",
        "     print(i, end=' ')\n",
        "    i=i+1\n",
        "  \n",
        "# Удалите комментарий и допишите код\n",
        "\n",
        "# --------------\n",
        "# Пример вывода:\n",
        "#\n",
        "# a = 1\n",
        "# b = 10\n",
        "# c = 2\n",
        "# 2 4 6 8 10\n"
      ],
      "execution_count": null,
      "outputs": [
        {
          "output_type": "stream",
          "text": [
            " a = 1\n",
            " b = 10\n",
            " c = 2\n",
            "2 4 6 8 10 10 "
          ],
          "name": "stdout"
        }
      ]
    }
  ]
}