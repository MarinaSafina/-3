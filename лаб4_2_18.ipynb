{
  "nbformat": 4,
  "nbformat_minor": 0,
  "metadata": {
    "colab": {
      "name": "лаб4.2.18",
      "provenance": []
    },
    "kernelspec": {
      "name": "python3",
      "display_name": "Python 3"
    }
  },
  "cells": [
    {
      "cell_type": "code",
      "metadata": {
        "id": "o_H21SwoY-o9",
        "outputId": "93ea5f31-1f22-415a-96be-1516cf47532c",
        "colab": {
          "base_uri": "https://localhost:8080/",
          "height": 51
        }
      },
      "source": [
        "\n",
        "# Программирование на языке высокого уровня (Python).\n",
        "# https://www.yuripetrov.ru/edu/python\n",
        "# Задание task_04_02_18.\n",
        "#\n",
        "# Выполнил: Фамилия И.О.\n",
        "# Группа: !!!\n",
        "# E-mail: !!!\n",
        "\n",
        "\n",
        "sentence = input('Введите предложение: ')\n",
        "CONS = u\"бвгджзклмнпрстфхцчшщ\"\n",
        "VOV = u\"аеёиоуыэюя\"\n",
        "\n",
        "cons = sum(1 for t in sentence.lower() if t in CONS)\n",
        "vov = sum(1 for t in sentence.lower() if t in VOV)\n",
        "\n",
        "\n",
        "\n",
        "print(\"кол-во букв в предложении: гласных -\" ,vov,\", согласных -\",cons)\n",
        "\n",
        "# Удалите комментарий и допишите код\n",
        "\n",
        "# --------------\n",
        "# Пример вывода:\n",
        "#\n",
        "# Введите предложение: Программирование\n",
        "# Кол-во букв в предложении: гласных - 7, согласных - 9\n"
      ],
      "execution_count": null,
      "outputs": [
        {
          "output_type": "stream",
          "text": [
            "Введите предложение: Программирование\n",
            "кол-во букв в предложении: гласных - 7 , согласных - 9\n"
          ],
          "name": "stdout"
        }
      ]
    }
  ]
}