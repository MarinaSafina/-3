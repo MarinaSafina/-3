{
  "nbformat": 4,
  "nbformat_minor": 0,
  "metadata": {
    "colab": {
      "name": "лаб.03.02.01.ipynb",
      "provenance": []
    },
    "kernelspec": {
      "name": "python3",
      "display_name": "Python 3"
    }
  },
  "cells": [
    {
      "cell_type": "markdown",
      "metadata": {
        "id": "huZgGYAQLLnb"
      },
      "source": [
        " Составьте программу, которая запрашивает у пользователя 2 целых числа и выполняет операции:\n",
        "\n",
        "арифметические: +, -, * , / , // , %, **;\n",
        "\n",
        "сравнение: <, <=, >, >=, !=, ==,\n",
        "\n",
        "выводя на экран результат каждого действия. В случае получение вещественного результата, округлите его до 2-х знаков после запятой (используя функцию round())."
      ]
    },
    {
      "cell_type": "code",
      "metadata": {
        "id": "ruXKtQXqKezO",
        "outputId": "b8679754-27f2-416b-d84c-7a779b038105",
        "colab": {
          "base_uri": "https://localhost:8080/",
          "height": 272
        }
      },
      "source": [
        "# Программирование на языке высокого уровня (Python).\n",
        "# https://www.yuripetrov.ru/edu/python\n",
        "# Задание task_03_02_01.\n",
        "#\n",
        "# Выполнил: Сафина М.Р.\n",
        "# Группа: АДЭУ 201\n",
        "# E-mail: !!!\n",
        "\n",
        "a = int(input(\"a=\"))\n",
        "b = int(input(\"b=\"))\n",
        "\n",
        "print(a + b)\n",
        "print(a - b)\n",
        "print(a * b)\n",
        "print(round (a / b, 2))\n",
        "print(a // b)\n",
        "print(a % b)\n",
        "print(a ** b)# Удалите комментарий и допишите код для прочих операций\n",
        "#<, <=, >, >=, !=, ==,\n",
        "print(a < b)\n",
        "print(a <= b)\n",
        "print(a > b)\n",
        "print(a >= b)\n",
        "print(a!=b)\n",
        "print(a == b) # Удалите комментарий и допишите код для прочих операций\n",
        "\n",
        "# —------------\n",
        "# Пример вывода:\n",
        "#\n",
        "# a=2\n",
        "# b=3\n",
        "# 5\n",
        "# -1\n",
        "# 6\n",
        "# 0.67\n",
        "# 0\n",
        "# 2\n",
        "# 8\n",
        "# True\n",
        "# True\n",
        "# False\n",
        "# False\n",
        "# True\n",
        "# False\n"
      ],
      "execution_count": null,
      "outputs": [
        {
          "output_type": "stream",
          "text": [
            "a=2\n",
            "b=3\n",
            "5\n",
            "-1\n",
            "6\n",
            "0.67\n",
            "0\n",
            "2\n",
            "8\n",
            "True\n",
            "True\n",
            "False\n",
            "False\n",
            "True\n",
            "False\n"
          ],
          "name": "stdout"
        }
      ]
    }
  ]
}