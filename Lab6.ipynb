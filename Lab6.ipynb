{
  "nbformat": 4,
  "nbformat_minor": 0,
  "metadata": {
    "colab": {
      "name": "Lab6.ipynb",
      "provenance": []
    },
    "kernelspec": {
      "name": "python3",
      "display_name": "Python 3"
    }
  },
  "cells": [
    {
      "cell_type": "markdown",
      "metadata": {
        "id": "YBYFykkokn6D"
      },
      "source": [
        "6/2/1-6/2/7\n",
        "Для задач 6.2.1-6.2.7 ответьте на следующие вопросы:\n",
        "\n",
        "Что выполняет приведенная функция?\n",
        "\n",
        "Какова вычислительная сложность алгоритма (наихудшая оценка, O-нотацию)?\n",
        "\n",
        "Ответы необходимо указать в строке документации с пометкой «Алгоритм» и «Сложность» соответственно. Сложность - один из вариантов:\n",
        "\n",
        "O(1), O(N), O(log(N)), O(N log(N)) или O(N^2).\n",
        "считая, что N - размер входных данных."
      ]
    },
    {
      "cell_type": "code",
      "metadata": {
        "id": "t6i3QSpfkmH1",
        "colab": {
          "base_uri": "https://localhost:8080/"
        },
        "outputId": "358e1088-d8d3-4b32-d391-2cb32681ef84"
      },
      "source": [
        "# Программирование на языке высокого уровня (Python).\n",
        "# https://www.yuripetrov.ru/edu/python\n",
        "# Задание task_06_02_01.\n",
        "# Выполнил: Safina\n",
        "# Группа: !!!\n",
        "# E-mail: !!!\n",
        "#Алгоритм: занимается сортировкой списка по возрастанию\n",
        "#сложность: O(N^2) \n",
        "\n",
        "def foo(a):\n",
        "   \n",
        "    for i in range(len(a), 0, -1):\n",
        "        for j in range(1, i):\n",
        "            if a[j-1] > a[j]:\n",
        "                a[j-1], a[j] = a[j], a[j-1]\n",
        "    return a\n",
        "\n",
        "\n",
        "a = [1, 2, 3, 4, 2, 1, 3, 4, 3, 5, -2, -2, 2, -2, 65, 2, 2]\n",
        "foo(a)\n"
      ],
      "execution_count": null,
      "outputs": [
        {
          "output_type": "execute_result",
          "data": {
            "text/plain": [
              "[-2, -2, -2, 1, 1, 2, 2, 2, 2, 2, 3, 3, 3, 4, 4, 5, 65]"
            ]
          },
          "metadata": {
            "tags": []
          },
          "execution_count": 3
        }
      ]
    },
    {
      "cell_type": "code",
      "metadata": {
        "id": "II7PZO9AorPO"
      },
      "source": [
        "# Программирование на языке высокого уровня (Python).\n",
        "# https://www.yuripetrov.ru/edu/python\n",
        "# Задание task_06_02_02.\n",
        "#\n",
        "# Выполнил: Сафина\n",
        "# Группа: !!!\n",
        "# E-mail: !!!\n",
        "# Алгоритм: выводит то же самое число\n",
        "# Сложность: О(1)\n",
        "\n",
        "\n",
        "def foo(i):\n",
        "    digits = \"0123456789\"\n",
        "    if i == 0:\n",
        "        return \"0\"\n",
        "    result = \"\"\n",
        "    while i > 0:\n",
        "        result = digits[i%10] + result\n",
        "        i = i // 10\n",
        "    return result\n"
      ],
      "execution_count": null,
      "outputs": []
    },
    {
      "cell_type": "code",
      "metadata": {
        "id": "OxGbqp0ZpEUB"
      },
      "source": [
        "# Программирование на языке высокого уровня (Python).\n",
        "# https://www.yuripetrov.ru/edu/python\n",
        "# Задание task_06_02_03.\n",
        "#\n",
        "# Выполнил: Сафина\n",
        "# Группа: !!!\n",
        "# E-mail: !!!\n",
        "# Алгоритм: выводит сумму чисел, записанных в веденной строке\n",
        "# Сложность: О(1)\n",
        "\n",
        "def foo(s):\n",
        "    val = 0\n",
        "    for c in s:\n",
        "        if c.isdigit():\n",
        "            val += int(c)\n",
        "    return val"
      ],
      "execution_count": null,
      "outputs": []
    },
    {
      "cell_type": "code",
      "metadata": {
        "id": "-CSAso5Ir1fg"
      },
      "source": [
        "# Программирование на языке высокого уровня (Python).\n",
        "# https://www.yuripetrov.ru/edu/python\n",
        "# Задание task_06_02_04.\n",
        "#\n",
        "# Выполнил: Сафина\n",
        "# Группа: !!!\n",
        "# E-mail: !!!\n",
        "# Алгоритм: выводит все числа до введенного числа\n",
        "# Сложность: О(N)\n",
        "\n",
        "\n",
        "def foo(n):\n",
        "    \n",
        "    res = []\n",
        "    for i in range(1, n + 1):\n",
        "        divisors = 0\n",
        "        j = 2\n",
        "        while j < i and divisors == 0:\n",
        "            if i % j == 0:\n",
        "                divisors += 1\n",
        "            j += 1\n",
        "\n",
        "        if divisors == 0:\n",
        "            res.append(i)\n",
        "\n",
        "    return res\n"
      ],
      "execution_count": null,
      "outputs": []
    },
    {
      "cell_type": "code",
      "metadata": {
        "id": "6QApJgjDsozs"
      },
      "source": [
        "# Программирование на языке высокого уровня (Python).\n",
        "# https://www.yuripetrov.ru/edu/python\n",
        "# Задание task_06_02_05.\n",
        "#\n",
        "# Выполнил: Сафина\n",
        "# Группа: !!!\n",
        "# E-mail: !!!\n",
        "# Алгоритм: проверяет четность/нечетность элементов списка, если хотя бы один - четный, то выводится True\n",
        "# Сложность: O(1)\n",
        "\n",
        "\n",
        "def foo(nums):\n",
        "    \n",
        "    for x in nums:\n",
        "        if x % 2 == 0:\n",
        "            return True\n",
        "    else:\n",
        "        return False"
      ],
      "execution_count": null,
      "outputs": []
    },
    {
      "cell_type": "code",
      "metadata": {
        "id": "-aObST_03pyM"
      },
      "source": [
        "# Программирование на языке высокого уровня (Python).\n",
        "# https://www.yuripetrov.ru/edu/python\n",
        "# Задание task_06_02_06.\n",
        "#\n",
        "# Выполнил: Сафина\n",
        "# Группа: !!!\n",
        "# E-mail: !!!\n",
        "# Алгоритм: вычисляет сумму первого элемента и последнего элемента в квадрате\n",
        "# Сложность: О(1)\n",
        "\n",
        "def foo(nums):\n",
        "    return (nums[0] + nums[-1] ** 2)\n"
      ],
      "execution_count": null,
      "outputs": []
    }
  ]
}