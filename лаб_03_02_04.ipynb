{
  "nbformat": 4,
  "nbformat_minor": 0,
  "metadata": {
    "colab": {
      "name": "лаб.03.02.04.ipynb",
      "provenance": []
    },
    "kernelspec": {
      "name": "python3",
      "display_name": "Python 3"
    }
  },
  "cells": [
    {
      "cell_type": "markdown",
      "metadata": {
        "id": "e0_w9M5JVsU-"
      },
      "source": [
        "Дано двузначное и трехзначное число. Для каждого выведите на экран сумму и произведение цифр.\n"
      ]
    },
    {
      "cell_type": "code",
      "metadata": {
        "id": "FmPbYz1f_pMh"
      },
      "source": [
        ""
      ],
      "execution_count": null,
      "outputs": []
    },
    {
      "cell_type": "code",
      "metadata": {
        "id": "N_CMdhT3VpxX",
        "outputId": "32702122-ebf9-430c-81cb-57fc10ee0820",
        "colab": {
          "base_uri": "https://localhost:8080/",
          "height": 85
        }
      },
      "source": [
        "# Программирование на языке высокого уровня (Python).\n",
        "# https://www.yuripetrov.ru/edu/python\n",
        "# Задание task_03_02_04.\n",
        "#\n",
        "# Выполнил: Сафина М.Р.\n",
        "# Группа: АДЭУ 201\n",
        "# E-mail: !!!\n",
        "\n",
        "\n",
        "# Двузначное число\n",
        "num2 = int(input('num2='))\n",
        "# Трехзначное число\n",
        "num3 = int(input('num3='))\n",
        "\n",
        "# 1-я цифра числа 'num2'\n",
        "num2_1 = num2//10\n",
        "# 2-я цифра числа 'num2'\n",
        "num2_2 =  num2%10\n",
        "\n",
        "# Сумма цифр числа 'num2'\n",
        "num2_s = num2_1+num2_2\n",
        "# Произведение цифр числа 'num2'\n",
        "num2_p = num2_1*num2_2\n",
        "\n",
        "# 1-я цифра числа 'num3'\n",
        "num4= num3//10\n",
        "\n",
        "num3_1 = num4//10\n",
        "# 2-я цифра числа 'num3'\n",
        "num3_2 = num4%10\n",
        "# 3-я цифра числа 'num3'\n",
        "num3_3 = num3%10\n",
        "\n",
        "# Сумма цифр числа 'num3'\n",
        "num3_s = num3_1+num3_2+num3_3\n",
        "# Произведение цифр числа 'num3'\n",
        "num3_p = num3_1*num3_2*num3_3\n",
        "\n",
        "print('Сумма и произведение цифр двузначного числа:', num2_s, num2_p)\n",
        "print('Сумма и произведение цифр трёхзначного числа:', num3_s, num3_p)\n",
        "# Вывод результата\n",
        "# Удалите комментарий и допишите код\n",
        "\n",
        "\n",
        "# --------------\n",
        "# Пример вывода:\n",
        "#\n",
        "# Двузначное число: 45\n",
        "# Трехзначное число: 456\n",
        "# Сумма и произведение цифр двузначного числа: 9 20\n",
        "# Сумма и произведение цифр трехзначного числа: 15 120\n"
      ],
      "execution_count": null,
      "outputs": [
        {
          "output_type": "stream",
          "text": [
            "num2=45\n",
            "num3=456\n",
            "Сумма и произведение цифр двузначного числа: 9 20\n",
            "Сумма и произведение цифр трёхзначного числа: 15 120\n"
          ],
          "name": "stdout"
        }
      ]
    }
  ]
}