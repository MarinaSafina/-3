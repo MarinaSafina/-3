{
  "nbformat": 4,
  "nbformat_minor": 0,
  "metadata": {
    "colab": {
      "name": "лаб03.02.02.ipynb",
      "provenance": []
    },
    "kernelspec": {
      "name": "python3",
      "display_name": "Python 3"
    }
  },
  "cells": [
    {
      "cell_type": "markdown",
      "metadata": {
        "id": "2WnoWKAwCh2b"
      },
      "source": [
        "Вычислите значение следующего выражения (аргументы - целые числа и вводятся с клавиатуры):\n",
        "\n",
        "Округлите результат до 3-х знаков после запятой, используя функцию round()."
      ]
    },
    {
      "cell_type": "code",
      "metadata": {
        "id": "FkWf0N8fCIxN",
        "outputId": "a7e49bb4-f660-4366-db4c-d4da86386702",
        "colab": {
          "base_uri": "https://localhost:8080/",
          "height": 85
        }
      },
      "source": [
        "# Программирование на языке высокого уровня (Python).\n",
        "# https://www.yuripetrov.ru/edu/python\n",
        "# Задание task_03_02_02.\n",
        "#\n",
        "# Выполнил: Сафина М.Р.\n",
        "# Группа: АДЭУ-201\n",
        "# E-mail: !!!\n",
        "\n",
        "\n",
        "x = int(input(\"x=\"))\n",
        "y = int(input(\"y=\"))\n",
        "z = int(input(\"z=\"))\n",
        "res1 = ((x**5+7)/(abs(-6)*y))**(1/3)\n",
        "res2 = 7-( z % y)\n",
        "res= res1/res2\n",
        "print (round(res,2))\n",
        "\n",
        "# --------------\n",
        "# Пример вывода:\n",
        "#\n",
        "# x=0\n",
        "# y=1\n",
        "# z=2\n",
        "# 0.15\n"
      ],
      "execution_count": null,
      "outputs": [
        {
          "output_type": "stream",
          "text": [
            "x=0\n",
            "y=1\n",
            "z=2\n",
            "0.15\n"
          ],
          "name": "stdout"
        }
      ]
    }
  ]
}