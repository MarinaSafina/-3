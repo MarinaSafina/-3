{
  "nbformat": 4,
  "nbformat_minor": 0,
  "metadata": {
    "colab": {
      "name": "Практика 13.11.ipynb",
      "provenance": []
    },
    "kernelspec": {
      "name": "python3",
      "display_name": "Python 3"
    }
  },
  "cells": [
    {
      "cell_type": "markdown",
      "metadata": {
        "id": "6QtBhk3qhE0w"
      },
      "source": [
        "## Конструктор класса"
      ]
    },
    {
      "cell_type": "code",
      "metadata": {
        "id": "rfEhUC3zKSEd"
      },
      "source": [
        "class Person:\n",
        "  def setName(self,n,s):\n",
        "    self.name=n\n",
        "    self.surname=s\n"
      ],
      "execution_count": null,
      "outputs": []
    },
    {
      "cell_type": "code",
      "metadata": {
        "id": "2o563tsbO111",
        "outputId": "3cbbeb41-838d-4d1a-9140-374c90fe785c",
        "colab": {
          "base_uri": "https://localhost:8080/"
        }
      },
      "source": [
        "p1=Person()\n",
        "p1.setName(\"Bill\",\"Ross\")\n",
        "p1.name,p1.surname"
      ],
      "execution_count": null,
      "outputs": [
        {
          "output_type": "execute_result",
          "data": {
            "text/plain": [
              "('Bill', 'Ross')"
            ]
          },
          "metadata": {
            "tags": []
          },
          "execution_count": 9
        }
      ]
    },
    {
      "cell_type": "code",
      "metadata": {
        "id": "ya8KNscbO-vF"
      },
      "source": [
        "class Person2:\n",
        "  def __init__(self,n,s):\n",
        "    self.name=n\n",
        "    self.surname=s"
      ],
      "execution_count": null,
      "outputs": []
    },
    {
      "cell_type": "code",
      "metadata": {
        "id": "fIihNy-dPG0f",
        "outputId": "1d536a26-b56e-49c8-be15-9db1248b91ac",
        "colab": {
          "base_uri": "https://localhost:8080/"
        }
      },
      "source": [
        "p1=Person2(\"Sam\",\"Baker\")\n",
        "print(p1.name, p1.surname)"
      ],
      "execution_count": null,
      "outputs": [
        {
          "output_type": "stream",
          "text": [
            "Sam Baker\n"
          ],
          "name": "stdout"
        }
      ]
    },
    {
      "cell_type": "code",
      "metadata": {
        "id": "QsqoEFLbPftY"
      },
      "source": [
        "class Rectangle:\n",
        "  def __init__(self,w=0.5,h=1):\n",
        "    self.width=w\n",
        "    self.height=h\n",
        "  def square(self):\n",
        "    return self.width*self.height"
      ],
      "execution_count": null,
      "outputs": []
    },
    {
      "cell_type": "code",
      "metadata": {
        "id": "0G1UCjRvPzkf",
        "outputId": "da4e705f-f975-425c-a691-a4ba6f39bf3e",
        "colab": {
          "base_uri": "https://localhost:8080/"
        }
      },
      "source": [
        "rec1=Rectangle(5,2)\n",
        "rec2=Rectangle()\n",
        "rec3=Rectangle(3)\n",
        "rec4=Rectangle(h=4)\n",
        "print(rec1.square())\n",
        "print(rec2.square())\n",
        "print(rec3.square())\n",
        "print(rec4.square())"
      ],
      "execution_count": null,
      "outputs": [
        {
          "output_type": "stream",
          "text": [
            "10\n",
            "0.5\n",
            "3\n",
            "2.0\n"
          ],
          "name": "stdout"
        }
      ]
    },
    {
      "cell_type": "code",
      "metadata": {
        "id": "_xtIRslWQTBi",
        "outputId": "313de85c-c52e-4ebe-aa33-71942925b60c",
        "colab": {
          "base_uri": "https://localhost:8080/",
          "height": 137
        }
      },
      "source": [
        "class Person:\n",
        "  def __init__(self,n,s,q=1):\n",
        "    self.name=n\n",
        "    self.surname=s\n",
        "    self.skill=q\n",
        "  def __del__(self):\n",
        "    print('До свидания мистер',self.name,self.surname)\n",
        "  def info(self):\n",
        "    return \"{0} {1},{2}\".format(self.name,self.surname,self.skill)\n",
        "worker=Person('И','Котов',3)\n",
        "helper=Person('Д','Мышев',1)\n",
        "maker=Person('О','Рисов',2)\n",
        "print(worker.info())\n",
        "print(helper.info())\n",
        "print(maker.info())\n",
        "del helper\n",
        "print(\"Конец программы\")\n",
        "input()\n"
      ],
      "execution_count": 14,
      "outputs": [
        {
          "output_type": "stream",
          "text": [
            "И Котов,3\n",
            "Д Мышев,1\n",
            "О Рисов,2\n",
            "До свидания мистер Д Мышев\n",
            "Конец программы\n",
            "\n"
          ],
          "name": "stdout"
        },
        {
          "output_type": "execute_result",
          "data": {
            "application/vnd.google.colaboratory.intrinsic+json": {
              "type": "string"
            },
            "text/plain": [
              "''"
            ]
          },
          "metadata": {
            "tags": []
          },
          "execution_count": 14
        }
      ]
    },
    {
      "cell_type": "code",
      "metadata": {
        "id": "VnoMLKTnUXPi",
        "outputId": "37ca62bd-9b81-4b0d-e307-0662fbbd37f7",
        "colab": {
          "base_uri": "https://localhost:8080/"
        }
      },
      "source": [
        "class Student:\n",
        "  def __init__(self,surname,birth,gender,number,gmail,university,institut,speciality,mark,group=\"ADEY\"):\n",
        "    self.surname=surname\n",
        "    self.birth=birth\n",
        "    self.gender=gender\n",
        "    self.number=number\n",
        "    self.gmail=gmail\n",
        "    self.university=university\n",
        "    self.institut=institut\n",
        "    self.speciality=speciality\n",
        "    self.mark=mark\n",
        "    self.group=group\n",
        "  def __del__(self):\n",
        "    print('Отчислен студент -',self.surname,self.mark)\n",
        "  def info(self):\n",
        "    return \"{0}  - {1},{2},{3},{4},{5},{6},{7},{8},{9}\".format(self.surname,self.birth,self.gender,self.number,self.gmail,self.university,self.institut,self.speciality,self.mark,self.group)\n",
        "\n",
        "st1=Student('Козлов','5/10/2002','M','89473864854','kozel@gmail.com','MГПУ','ИЦO','Аналитик',5)\n",
        "st2=Student('Маронина','7/11/2003','Ж','89473735509854','mar2003@gmail.com','MГПУ','ИЦO','Аналитик',3)\n",
        "st3=Student('Покин','31/8/2001','М','89476509854','pok1421@gmail.com','MГПУ','ИЦO','Аналитик',1)\n",
        "print(st1.info())\n",
        "print(st2.info())\n",
        "print(st3.info())\n",
        "del st3\n",
        "\n",
        "\n"
      ],
      "execution_count": 48,
      "outputs": [
        {
          "output_type": "stream",
          "text": [
            "Отчислен студент - Козлов 5\n",
            "Козлов  - 5/10/2002,M,89473864854,kozel@gmail.com,MГПУ,ИЦO,Аналитик,5,ADEY\n",
            "Маронина  - 7/11/2003,Ж,89473735509854,mar2003@gmail.com,MГПУ,ИЦO,Аналитик,3,ADEY\n",
            "Покин  - 31/8/2001,М,89476509854,pok1421@gmail.com,MГПУ,ИЦO,Аналитик,1,ADEY\n",
            "Отчислен студент - Покин 1\n"
          ],
          "name": "stdout"
        }
      ]
    },
    {
      "cell_type": "code",
      "metadata": {
        "id": "-6zHRIGVja5u",
        "outputId": "d2921901-b2d9-4908-b811-ddefa5842661",
        "colab": {
          "base_uri": "https://localhost:8080/"
        }
      },
      "source": [
        "if st1.mark<st2.mark:\n",
        "  print(\"Пока, первый студент\")\n",
        "  del st1\n",
        "elif st1.mark>st2.mark:\n",
        "  print(\"Пока, второй студент\")\n",
        "  del st2\n",
        "else:\n",
        "  print('молодцы!')"
      ],
      "execution_count": 49,
      "outputs": [
        {
          "output_type": "stream",
          "text": [
            "Пока, второй студент\n",
            "Отчислен студент - Маронина 3\n"
          ],
          "name": "stdout"
        }
      ]
    },
    {
      "cell_type": "markdown",
      "metadata": {
        "id": "pc2EPjOib8JX"
      },
      "source": [
        "## Наследование"
      ]
    },
    {
      "cell_type": "code",
      "metadata": {
        "id": "_12yIKt-b2hh",
        "outputId": "e12b8f95-a9f7-439e-81ff-b8ed83315da8",
        "colab": {
          "base_uri": "https://localhost:8080/"
        }
      },
      "source": [
        "class Table:\n",
        "  def __init__(self,l,w,h):\n",
        "    self.height=h\n",
        "    self.lenght=l\n",
        "    self.width=w\n",
        "\n",
        "class KitchenTable(Table):\n",
        "  def setPlaces(self,p):\n",
        "    self.places=p\n",
        "\n",
        "class DeskTable(Table):\n",
        "  def square(self):\n",
        "    return self.width*self.lenght\n",
        "\n",
        "class ComputerTable(DeskTable):\n",
        "  def square(self,e):\n",
        "    return self.width*self.lenght-e\n",
        "ct=ComputerTable(2,1,1)\n",
        "ct.square(0.3)\n"
      ],
      "execution_count": 35,
      "outputs": [
        {
          "output_type": "execute_result",
          "data": {
            "text/plain": [
              "1.7"
            ]
          },
          "metadata": {
            "tags": []
          },
          "execution_count": 35
        }
      ]
    },
    {
      "cell_type": "code",
      "metadata": {
        "id": "6FQrctKXdPe7"
      },
      "source": [
        "t1=KitchenTable(12,3,5,6)\n",
        "t2=KitchenTable(2,2,0.7,8)\n",
        "t2=DeskTable(13,4,8)\n",
        "\n"
      ],
      "execution_count": 44,
      "outputs": []
    },
    {
      "cell_type": "code",
      "metadata": {
        "id": "XzPFSXbtgWGt"
      },
      "source": [
        "class KitchenTable(Table):\n",
        "  def __init__(self,l,w,h,p):\n",
        "    self.places=p\n",
        "    self.height=h\n",
        "    self.lenght=l\n",
        "    self.width=w"
      ],
      "execution_count": 39,
      "outputs": []
    },
    {
      "cell_type": "code",
      "metadata": {
        "id": "HG49eltmgjdK"
      },
      "source": [
        "class KitchenTable(Table):\n",
        "  def __init__(self,l,w,h,p):\n",
        "    Table.__init__(self,l,w,h)\n",
        "    self.places=p"
      ],
      "execution_count": 40,
      "outputs": []
    },
    {
      "cell_type": "code",
      "metadata": {
        "id": "QvuDA7GDdgXG",
        "outputId": "1c36e43e-9644-45c0-acca-feaa38f7bb87",
        "colab": {
          "base_uri": "https://localhost:8080/",
          "height": 163
        }
      },
      "source": [
        "t1=KitchenTable()"
      ],
      "execution_count": 22,
      "outputs": [
        {
          "output_type": "error",
          "ename": "TypeError",
          "evalue": "ignored",
          "traceback": [
            "\u001b[0;31m---------------------------------------------------------------------------\u001b[0m",
            "\u001b[0;31mTypeError\u001b[0m                                 Traceback (most recent call last)",
            "\u001b[0;32m<ipython-input-22-06ed04ae9d83>\u001b[0m in \u001b[0;36m<module>\u001b[0;34m()\u001b[0m\n\u001b[0;32m----> 1\u001b[0;31m \u001b[0mt1\u001b[0m\u001b[0;34m=\u001b[0m\u001b[0mKitchenTable\u001b[0m\u001b[0;34m(\u001b[0m\u001b[0;34m)\u001b[0m\u001b[0;34m\u001b[0m\u001b[0;34m\u001b[0m\u001b[0m\n\u001b[0m",
            "\u001b[0;31mTypeError\u001b[0m: __init__() missing 3 required positional arguments: 'h', 'l', and 'w'"
          ]
        }
      ]
    },
    {
      "cell_type": "code",
      "metadata": {
        "id": "ewufYfOgfwI2",
        "outputId": "5c3faceb-2b1c-4158-8c85-0d75f32a17ef",
        "colab": {
          "base_uri": "https://localhost:8080/"
        }
      },
      "source": [
        "class ComputerTable(DeskTable):\n",
        "  def square(self,e):\n",
        "    return DeskTable.square(self)-e\n",
        "ct1=ComputerTable(2,1,1)\n",
        "ct1.square(0.3)"
      ],
      "execution_count": 38,
      "outputs": [
        {
          "output_type": "execute_result",
          "data": {
            "text/plain": [
              "1.7"
            ]
          },
          "metadata": {
            "tags": []
          },
          "execution_count": 38
        }
      ]
    },
    {
      "cell_type": "code",
      "metadata": {
        "id": "OlhYL-QAfkAJ"
      },
      "source": [
        "from random import randint\n",
        "\n",
        "class Person:\n",
        "  count=0\n",
        "  def __init__(self,c):\n",
        "    self.id=Person.count\n",
        "    Person.count+=1\n",
        "    self.command=c\n",
        "\n",
        "class Hero(Person):\n",
        "  def __init__(self,c):\n",
        "    Person.__init__(self,c)\n",
        "    self.level=1\n",
        "  def upLevel(self):\n",
        "    self.level+=1\n",
        "\n",
        "class Soldier(Person):\n",
        "  def __init__(self,c):\n",
        "    Person.__init__(self,c)\n",
        "    self.my_hero=None\n",
        "  def follow(self,hero):\n",
        "    self.my_hero=hero.id"
      ],
      "execution_count": 56,
      "outputs": []
    },
    {
      "cell_type": "code",
      "metadata": {
        "id": "9JL3V-2Km3NC",
        "outputId": "35a54a39-0581-41e4-9fbc-14a72b2b97f4",
        "colab": {
          "base_uri": "https://localhost:8080/"
        }
      },
      "source": [
        "h1= Hero(1)\n",
        "h2= Hero(2)\n",
        "army1=[]\n",
        "army2=[]\n",
        "for i in range(20):\n",
        "  n=randint(1,2)\n",
        "  if n==1:\n",
        "    army1.append(Soldier(n))\n",
        "  else:\n",
        "    army2.append(Soldier(n))\n",
        "print(len(army1),len(army2))\n",
        "if len(army1) > len(army2):\n",
        "  h1.upLevel()\n",
        "else:\n",
        "  h2.upLevel()\n",
        "army1[0].follow(h1)\n",
        "print(army1[0].id,h1.id)"
      ],
      "execution_count": 58,
      "outputs": [
        {
          "output_type": "stream",
          "text": [
            "12 8\n",
            "26 22\n"
          ],
          "name": "stdout"
        }
      ]
    },
    {
      "cell_type": "markdown",
      "metadata": {
        "id": "gMOb98z5q2JI"
      },
      "source": [
        "## Полиморфизм"
      ]
    },
    {
      "cell_type": "code",
      "metadata": {
        "id": "t3BJE7A1q7J6"
      },
      "source": [
        "class T1:\n",
        "  n=10\n",
        "  def total(self,N):\n",
        "    self.total=int(self.n)+int(N)\n",
        "\n",
        "class T2:\n",
        "  def total(self,s):\n",
        "    self.total=len(str(s))\n",
        "    "
      ],
      "execution_count": 62,
      "outputs": []
    },
    {
      "cell_type": "code",
      "metadata": {
        "id": "16KVk1sPrgy0",
        "outputId": "cf75f265-f07c-4891-e83a-f36604b0847f",
        "colab": {
          "base_uri": "https://localhost:8080/"
        }
      },
      "source": [
        "t1=T1()\n",
        "t2=T2()\n",
        "t1.total(45)\n",
        "t2.total(45)\n",
        "print(t1.total)\n",
        "print(t2.total)"
      ],
      "execution_count": 63,
      "outputs": [
        {
          "output_type": "stream",
          "text": [
            "55\n",
            "2\n"
          ],
          "name": "stdout"
        }
      ]
    },
    {
      "cell_type": "code",
      "metadata": {
        "id": "a1mjo9xys8Vg"
      },
      "source": [
        "class Rectangle:\n",
        "  def __init__(self,width,height,sign):\n",
        "    self.w=int(width)\n",
        "    self.h=int(height)\n",
        "    self.s=str(sign)\n",
        "  def __str__(self):\n",
        "    rect=[]\n",
        "    for i in range(self.h):\n",
        "      rect.append(self.s*self.w)\n",
        "    rect='\\n'.join(rect)\n",
        "    return rect \n",
        "  def __add__(self,other):\n",
        "    return Rectangle(self.w+other.w,self.h+other.h,self.s)"
      ],
      "execution_count": 64,
      "outputs": []
    },
    {
      "cell_type": "code",
      "metadata": {
        "id": "YdILrXmAuqfh",
        "outputId": "3c825103-6b50-4dc5-952c-0e2c6896c196",
        "colab": {
          "base_uri": "https://localhost:8080/"
        }
      },
      "source": [
        "a=Rectangle(4,2,'w')\n",
        "print(a)\n",
        "b=Rectangle(8,3,'z')\n",
        "print(b)\n",
        "print(a+b)\n",
        "print(b+a)"
      ],
      "execution_count": 65,
      "outputs": [
        {
          "output_type": "stream",
          "text": [
            "wwww\n",
            "wwww\n",
            "zzzzzzzz\n",
            "zzzzzzzz\n",
            "zzzzzzzz\n",
            "wwwwwwwwwwww\n",
            "wwwwwwwwwwww\n",
            "wwwwwwwwwwww\n",
            "wwwwwwwwwwww\n",
            "wwwwwwwwwwww\n",
            "zzzzzzzzzzzz\n",
            "zzzzzzzzzzzz\n",
            "zzzzzzzzzzzz\n",
            "zzzzzzzzzzzz\n",
            "zzzzzzzzzzzz\n"
          ],
          "name": "stdout"
        }
      ]
    },
    {
      "cell_type": "code",
      "metadata": {
        "id": "GHgZLMpDwPeE"
      },
      "source": [
        ""
      ],
      "execution_count": null,
      "outputs": []
    }
  ]
}